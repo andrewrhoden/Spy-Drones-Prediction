{
 "cells": [
  {
   "cell_type": "markdown",
   "id": "52324629",
   "metadata": {
    "papermill": {
     "duration": 0.018505,
     "end_time": "2021-06-07T00:09:44.379517",
     "exception": false,
     "start_time": "2021-06-07T00:09:44.361012",
     "status": "completed"
    },
    "tags": []
   },
   "source": [
    "# Introduction: Predicting Island Friendly Cars and Spy Drones with XGBoost\n",
    "_**Using Gradient Boosted Trees to Predict Cars that low impact to the Island's fragile ecosystem**_\n",
    "\n",
    "_**DIY Note:**_ We will be using this same notebook for the DIY portion of the lab by making small changes to the files and referenced frames.\n",
    "\n",
    "\n",
    "\n",
    "---\n",
    "\n",
    "---\n",
    "\n",
    "## Contents\n",
    "\n",
    "1. [Background](#Background)\n",
    "1. [Setup](#Setup)\n",
    "1. [Data](#Data)\n",
    "1. [Train](#Train)\n",
    "1. [Compile](#Compile)\n",
    "1. [Host](#Host)\n",
    "  1. [Evaluate](#Evaluate)\n",
    "  1. [Relative cost of errors](#Relative-cost-of-errors)\n",
    "1. [Extensions](#Extensions)\n",
    "\n",
    "---\n",
    "\n",
    "## Background\n",
    "\n",
    "_This notebook has been adapted from an [AWS blog post](https://aws.amazon.com/blogs/ai/predicting-customer-churn-with-amazon-machine-learning/)_\n",
    "\n",
    "Island ecosystems are fragile and to reduce the impact that some automobiles have we need a way to predict which automobiles are island friendly.  By giving island citizens the ability to input their automobile data we can give them the opportunity to steer away from automobiles that may not be healthy to the environment, cause crowding, and deplete resources. This notebook describes using machine learning (ML) for the automated identification of island friendly vehicles. ML models rarely give perfect predictions though, so this notebook is also about how to incorporate the relative costs of prediction mistakes when determining the financial outcome of using ML.\n",
    "\n",
    "---\n",
    "\n",
    "## Setup\n",
    "\n",
    "_This notebook was created and tested on a `ml.m4.xlarge` notebook instance._\n",
    "\n",
    "Let's start by updating the required packages i.e. SageMaker Python SDK, `pandas` and `numpy`, and specifying:\n",
    "\n",
    "- The S3 bucket and prefix that you want to use for training and model data.  This should be within the same region as the Notebook Instance, training, and hosting.\n",
    "- The IAM role arn used to give training and hosting access to your data. See the documentation for how to create these.  Note, if more than one role is required for notebook instances, training, and/or hosting, please replace the boto regexp with the appropriate full IAM role arn string(s)."
   ]
  },
  {
   "cell_type": "markdown",
   "id": "0019784d",
   "metadata": {},
   "source": [
    "#### Code Cell 1 ####"
   ]
  },
  {
   "cell_type": "code",
   "execution_count": 3,
   "id": "bb6aa767",
   "metadata": {
    "tags": []
   },
   "outputs": [
    {
     "name": "stdout",
     "output_type": "stream",
     "text": [
      "Requirement already satisfied: pip in /opt/conda/lib/python3.7/site-packages (23.1.2)\n",
      "\u001b[33mWARNING: Running pip as the 'root' user can result in broken permissions and conflicting behaviour with the system package manager. It is recommended to use a virtual environment instead: https://pip.pypa.io/warnings/venv\u001b[0m\u001b[33m\n",
      "\u001b[0mRequirement already satisfied: sagemaker in /opt/conda/lib/python3.7/site-packages (2.145.0)\n",
      "Collecting sagemaker\n",
      "  Using cached sagemaker-2.165.0-py2.py3-none-any.whl\n",
      "Requirement already satisfied: pandas in /opt/conda/lib/python3.7/site-packages (1.3.5)\n",
      "Requirement already satisfied: numpy in /opt/conda/lib/python3.7/site-packages (1.18.1)\n",
      "Collecting numpy\n",
      "  Using cached numpy-1.21.6-cp37-cp37m-manylinux_2_12_x86_64.manylinux2010_x86_64.whl (15.7 MB)\n",
      "Collecting attrs<24,>=23.1.0 (from sagemaker)\n",
      "  Using cached attrs-23.1.0-py3-none-any.whl (61 kB)\n",
      "Collecting boto3<2.0,>=1.26.131 (from sagemaker)\n",
      "  Using cached boto3-1.26.155-py3-none-any.whl (135 kB)\n",
      "Requirement already satisfied: cloudpickle==2.2.1 in /opt/conda/lib/python3.7/site-packages (from sagemaker) (2.2.1)\n",
      "Requirement already satisfied: google-pasta in /opt/conda/lib/python3.7/site-packages (from sagemaker) (0.2.0)\n",
      "Requirement already satisfied: protobuf<4.0,>=3.1 in /opt/conda/lib/python3.7/site-packages (from sagemaker) (3.20.3)\n",
      "Requirement already satisfied: protobuf3-to-dict<1.0,>=0.1.5 in /opt/conda/lib/python3.7/site-packages (from sagemaker) (0.1.5)\n",
      "Requirement already satisfied: smdebug-rulesconfig==1.0.1 in /opt/conda/lib/python3.7/site-packages (from sagemaker) (1.0.1)\n",
      "Requirement already satisfied: importlib-metadata<5.0,>=1.4.0 in /opt/conda/lib/python3.7/site-packages (from sagemaker) (1.5.0)\n",
      "Requirement already satisfied: packaging>=20.0 in /opt/conda/lib/python3.7/site-packages (from sagemaker) (20.1)\n",
      "Requirement already satisfied: pathos in /opt/conda/lib/python3.7/site-packages (from sagemaker) (0.3.0)\n",
      "Requirement already satisfied: schema in /opt/conda/lib/python3.7/site-packages (from sagemaker) (0.7.5)\n",
      "Collecting PyYAML==6.0 (from sagemaker)\n",
      "  Using cached PyYAML-6.0-cp37-cp37m-manylinux_2_5_x86_64.manylinux1_x86_64.manylinux_2_12_x86_64.manylinux2010_x86_64.whl (596 kB)\n",
      "Requirement already satisfied: jsonschema in /opt/conda/lib/python3.7/site-packages (from sagemaker) (3.2.0)\n",
      "Requirement already satisfied: platformdirs in /opt/conda/lib/python3.7/site-packages (from sagemaker) (3.2.0)\n",
      "Requirement already satisfied: tblib==1.7.0 in /opt/conda/lib/python3.7/site-packages (from sagemaker) (1.7.0)\n",
      "Requirement already satisfied: python-dateutil>=2.7.3 in /opt/conda/lib/python3.7/site-packages (from pandas) (2.8.2)\n",
      "Requirement already satisfied: pytz>=2017.3 in /opt/conda/lib/python3.7/site-packages (from pandas) (2019.3)\n",
      "Collecting botocore<1.30.0,>=1.29.155 (from boto3<2.0,>=1.26.131->sagemaker)\n",
      "  Using cached botocore-1.29.155-py3-none-any.whl (10.9 MB)\n",
      "Requirement already satisfied: jmespath<2.0.0,>=0.7.1 in /opt/conda/lib/python3.7/site-packages (from boto3<2.0,>=1.26.131->sagemaker) (1.0.1)\n",
      "Requirement already satisfied: s3transfer<0.7.0,>=0.6.0 in /opt/conda/lib/python3.7/site-packages (from boto3<2.0,>=1.26.131->sagemaker) (0.6.0)\n",
      "Requirement already satisfied: zipp>=0.5 in /opt/conda/lib/python3.7/site-packages (from importlib-metadata<5.0,>=1.4.0->sagemaker) (2.2.0)\n",
      "Requirement already satisfied: pyparsing>=2.0.2 in /opt/conda/lib/python3.7/site-packages (from packaging>=20.0->sagemaker) (2.4.6)\n",
      "Requirement already satisfied: six in /opt/conda/lib/python3.7/site-packages (from packaging>=20.0->sagemaker) (1.14.0)\n",
      "Requirement already satisfied: pyrsistent>=0.14.0 in /opt/conda/lib/python3.7/site-packages (from jsonschema->sagemaker) (0.15.7)\n",
      "Requirement already satisfied: setuptools in /opt/conda/lib/python3.7/site-packages (from jsonschema->sagemaker) (45.2.0.post20200210)\n",
      "Requirement already satisfied: ppft>=1.7.6.6 in /opt/conda/lib/python3.7/site-packages (from pathos->sagemaker) (1.7.6.6)\n",
      "Requirement already satisfied: dill>=0.3.6 in /opt/conda/lib/python3.7/site-packages (from pathos->sagemaker) (0.3.6)\n",
      "Requirement already satisfied: pox>=0.3.2 in /opt/conda/lib/python3.7/site-packages (from pathos->sagemaker) (0.3.2)\n",
      "Requirement already satisfied: multiprocess>=0.70.14 in /opt/conda/lib/python3.7/site-packages (from pathos->sagemaker) (0.70.14)\n",
      "Requirement already satisfied: typing-extensions>=4.5 in /opt/conda/lib/python3.7/site-packages (from platformdirs->sagemaker) (4.5.0)\n",
      "Requirement already satisfied: contextlib2>=0.5.5 in /opt/conda/lib/python3.7/site-packages (from schema->sagemaker) (0.6.0.post1)\n",
      "Requirement already satisfied: urllib3<1.27,>=1.25.4 in /opt/conda/lib/python3.7/site-packages (from botocore<1.30.0,>=1.29.155->boto3<2.0,>=1.26.131->sagemaker) (1.26.15)\n",
      "Installing collected packages: PyYAML, numpy, botocore, attrs, boto3, sagemaker\n",
      "  Attempting uninstall: PyYAML\n",
      "    Found existing installation: PyYAML 5.3\n",
      "\u001b[31mERROR: Cannot uninstall 'PyYAML'. It is a distutils installed project and thus we cannot accurately determine which files belong to it which would lead to only a partial uninstall.\u001b[0m\u001b[31m\n",
      "\u001b[0m"
     ]
    }
   ],
   "source": [
    "import sys\n",
    "!{sys.executable} -m pip install --upgrade pip\n",
    "!{sys.executable} -m pip install sagemaker pandas numpy --upgrade\n"
   ]
  },
  {
   "cell_type": "markdown",
   "id": "17d09cc1",
   "metadata": {},
   "source": [
    "#### Code Cell 2 ####"
   ]
  },
  {
   "cell_type": "code",
   "execution_count": 4,
   "id": "a1f80ad3",
   "metadata": {
    "isConfigCell": true,
    "papermill": {
     "duration": 1.209916,
     "end_time": "2021-06-07T00:09:45.607159",
     "exception": false,
     "start_time": "2021-06-07T00:09:44.397243",
     "status": "completed"
    },
    "tags": [
     "parameters"
    ]
   },
   "outputs": [
    {
     "name": "stdout",
     "output_type": "stream",
     "text": [
      "default-bucket: spy-drones-lab-550964951749\n",
      "Default IAM role: arn:aws:iam::550964951749:role/sagemaker_studio_role\n"
     ]
    }
   ],
   "source": [
    "import sagemaker\n",
    "import boto3\n",
    "import re\n",
    "from sagemaker import get_execution_role\n",
    "\n",
    "sess = sagemaker.Session()\n",
    "\n",
    "# Define lab bucket\n",
    "lab_account = boto3.client('sts').get_caller_identity()['Account']\n",
    "bucket = f\"spy-drones-lab-{lab_account}\"\n",
    "print(\"default-bucket: \" + bucket)\n",
    "prefix = \"lab/xgboost-island-friendly\"\n",
    "\n",
    "# Define IAM role\n",
    "role = get_execution_role()\n",
    "print(\"Default IAM role: \" + role)"
   ]
  },
  {
   "cell_type": "markdown",
   "id": "121323f6",
   "metadata": {
    "papermill": {
     "duration": 0.017739,
     "end_time": "2021-06-07T00:09:45.683322",
     "exception": false,
     "start_time": "2021-06-07T00:09:45.665583",
     "status": "completed"
    },
    "tags": []
   },
   "source": [
    "Next, we'll import the Python libraries we'll need for the remainder of the exercise."
   ]
  },
  {
   "cell_type": "markdown",
   "id": "a0929a57",
   "metadata": {},
   "source": [
    "#### Code Cell 3 ####"
   ]
  },
  {
   "cell_type": "code",
   "execution_count": 5,
   "id": "21809959",
   "metadata": {
    "papermill": {
     "duration": 0.666347,
     "end_time": "2021-06-07T00:09:46.367361",
     "exception": false,
     "start_time": "2021-06-07T00:09:45.701014",
     "status": "completed"
    },
    "tags": []
   },
   "outputs": [],
   "source": [
    "import pandas as pd\n",
    "import numpy as np\n",
    "import matplotlib.pyplot as plt\n",
    "import io\n",
    "import os\n",
    "import sys\n",
    "import time\n",
    "import json\n",
    "from IPython.display import display\n",
    "from time import strftime, gmtime\n",
    "from sagemaker.inputs import TrainingInput\n",
    "from sagemaker.serializers import CSVSerializer"
   ]
  },
  {
   "cell_type": "markdown",
   "id": "355531ba",
   "metadata": {
    "papermill": {
     "duration": 0.021555,
     "end_time": "2021-06-07T00:09:46.406743",
     "exception": false,
     "start_time": "2021-06-07T00:09:46.385188",
     "status": "completed"
    },
    "tags": []
   },
   "source": [
    "---\n",
    "## Data\n",
    "\n",
    "The data for this model comes from [University of California Irvine](https://archive.ics.uci.edu/ml/datasets/automobile/) Machine Learning Repository and originally used for the purposes of assigning insurance risk scores to vehicles.  We have modified the data set slightly for our purposes.  We can use this historical information to construct an ML model to predict island friendly vehicles using a process called training. After training the model, we can pass the profile information of an arbitrary car (the same profile information that we used to train the model) to the model, and have the model predict whether this vehicle is island friendly or not.  Of course, we expect the model to make mistakes–after all, predicting the future is tricky business! But I’ll also show how to deal with prediction errors.\n",
    "\n",
    "Let's download and read that dataset in now:\n",
    "\n",
    "**DIY Note:** Comment out the line for download of DroneFlights.csv and uncomment the line for DroneFlights.csv "
   ]
  },
  {
   "cell_type": "markdown",
   "id": "e66f2c1f",
   "metadata": {},
   "source": [
    "#### Code Cell 4 ####"
   ]
  },
  {
   "cell_type": "code",
   "execution_count": 6,
   "id": "3e6b5bed",
   "metadata": {
    "papermill": {
     "duration": 1.671215,
     "end_time": "2021-06-07T00:09:48.098151",
     "exception": false,
     "start_time": "2021-06-07T00:09:46.426936",
     "status": "completed"
    },
    "tags": []
   },
   "outputs": [
    {
     "name": "stdout",
     "output_type": "stream",
     "text": [
      "download: s3://spy-drones-lab-550964951749/DroneFlights.csv to ./DroneFlights.csv\n"
     ]
    }
   ],
   "source": [
    "## For DIY section comment out the below line\n",
    "#!aws s3 cp s3://{bucket}/IslandAutos.csv ./\n",
    "    \n",
    "## For DIY section uncomment the below line\n",
    "!aws s3 cp s3://{bucket}/DroneFlights.csv ./\n",
    "    "
   ]
  },
  {
   "cell_type": "markdown",
   "id": "b5baef31",
   "metadata": {
    "execution": {
     "iopub.execute_input": "2021-06-07T00:09:48.138972Z",
     "iopub.status.busy": "2021-06-07T00:09:48.138536Z",
     "iopub.status.idle": "2021-06-07T00:09:48.185805Z",
     "shell.execute_reply": "2021-06-07T00:09:48.185364Z"
    },
    "papermill": {
     "duration": 0.06925,
     "end_time": "2021-06-07T00:09:48.185909",
     "exception": false,
     "start_time": "2021-06-07T00:09:48.116659",
     "status": "completed"
    },
    "tags": []
   },
   "source": [
    "### Working with missing data\n",
    "\n",
    "The data scientist that provided the data did some clean-up and any previously empty or erroneous values have been populated with a question mark (?).  We will import the data using the na_values parameter that references a list of known missing values.  \n",
    "\n",
    "As you work through the data and see other types of missing values, you can add them to the list below:\n",
    "\n",
    "**DIY Note:** In the below code cell change `IslandAutos.csv` file to `DroneFlights.csv` "
   ]
  },
  {
   "cell_type": "markdown",
   "id": "647049e4",
   "metadata": {},
   "source": [
    "#### Code Cell 5 ####"
   ]
  },
  {
   "cell_type": "code",
   "execution_count": 7,
   "id": "592efc9d",
   "metadata": {
    "papermill": {
     "duration": 0.06925,
     "end_time": "2021-06-07T00:09:48.185909",
     "exception": false,
     "start_time": "2021-06-07T00:09:48.116659",
     "status": "completed"
    },
    "tags": []
   },
   "outputs": [
    {
     "data": {
      "text/html": [
       "<div>\n",
       "<style scoped>\n",
       "    .dataframe tbody tr th:only-of-type {\n",
       "        vertical-align: middle;\n",
       "    }\n",
       "\n",
       "    .dataframe tbody tr th {\n",
       "        vertical-align: top;\n",
       "    }\n",
       "\n",
       "    .dataframe thead th {\n",
       "        text-align: right;\n",
       "    }\n",
       "</style>\n",
       "<table border=\"1\" class=\"dataframe\">\n",
       "  <thead>\n",
       "    <tr style=\"text-align: right;\">\n",
       "      <th></th>\n",
       "      <th>spy?</th>\n",
       "      <th>drone-id</th>\n",
       "      <th>flight-duration</th>\n",
       "      <th>transponder</th>\n",
       "      <th>max-altitude</th>\n",
       "      <th>max-speed</th>\n",
       "    </tr>\n",
       "  </thead>\n",
       "  <tbody>\n",
       "    <tr>\n",
       "      <th>0</th>\n",
       "      <td>0</td>\n",
       "      <td>7875</td>\n",
       "      <td>10</td>\n",
       "      <td>1.0</td>\n",
       "      <td>6</td>\n",
       "      <td>2</td>\n",
       "    </tr>\n",
       "    <tr>\n",
       "      <th>1</th>\n",
       "      <td>0</td>\n",
       "      <td>7996</td>\n",
       "      <td>11</td>\n",
       "      <td>1.0</td>\n",
       "      <td>4</td>\n",
       "      <td>3</td>\n",
       "    </tr>\n",
       "    <tr>\n",
       "      <th>2</th>\n",
       "      <td>0</td>\n",
       "      <td>8333</td>\n",
       "      <td>19</td>\n",
       "      <td>1.0</td>\n",
       "      <td>5</td>\n",
       "      <td>4</td>\n",
       "    </tr>\n",
       "    <tr>\n",
       "      <th>3</th>\n",
       "      <td>0</td>\n",
       "      <td>7490</td>\n",
       "      <td>6</td>\n",
       "      <td>1.0</td>\n",
       "      <td>7</td>\n",
       "      <td>1</td>\n",
       "    </tr>\n",
       "    <tr>\n",
       "      <th>4</th>\n",
       "      <td>0</td>\n",
       "      <td>5797</td>\n",
       "      <td>5</td>\n",
       "      <td>1.0</td>\n",
       "      <td>2</td>\n",
       "      <td>5</td>\n",
       "    </tr>\n",
       "    <tr>\n",
       "      <th>...</th>\n",
       "      <td>...</td>\n",
       "      <td>...</td>\n",
       "      <td>...</td>\n",
       "      <td>...</td>\n",
       "      <td>...</td>\n",
       "      <td>...</td>\n",
       "    </tr>\n",
       "    <tr>\n",
       "      <th>199</th>\n",
       "      <td>0</td>\n",
       "      <td>50</td>\n",
       "      <td>2</td>\n",
       "      <td>NaN</td>\n",
       "      <td>21</td>\n",
       "      <td>100</td>\n",
       "    </tr>\n",
       "    <tr>\n",
       "      <th>200</th>\n",
       "      <td>0</td>\n",
       "      <td>60</td>\n",
       "      <td>4</td>\n",
       "      <td>NaN</td>\n",
       "      <td>16</td>\n",
       "      <td>150</td>\n",
       "    </tr>\n",
       "    <tr>\n",
       "      <th>201</th>\n",
       "      <td>0</td>\n",
       "      <td>70</td>\n",
       "      <td>8</td>\n",
       "      <td>NaN</td>\n",
       "      <td>27</td>\n",
       "      <td>100</td>\n",
       "    </tr>\n",
       "    <tr>\n",
       "      <th>202</th>\n",
       "      <td>0</td>\n",
       "      <td>80</td>\n",
       "      <td>10</td>\n",
       "      <td>NaN</td>\n",
       "      <td>11</td>\n",
       "      <td>400</td>\n",
       "    </tr>\n",
       "    <tr>\n",
       "      <th>203</th>\n",
       "      <td>0</td>\n",
       "      <td>90</td>\n",
       "      <td>12</td>\n",
       "      <td>NaN</td>\n",
       "      <td>10</td>\n",
       "      <td>200</td>\n",
       "    </tr>\n",
       "  </tbody>\n",
       "</table>\n",
       "<p>204 rows × 6 columns</p>\n",
       "</div>"
      ],
      "text/plain": [
       "     spy?  drone-id  flight-duration  transponder  max-altitude  max-speed\n",
       "0       0      7875               10          1.0             6          2\n",
       "1       0      7996               11          1.0             4          3\n",
       "2       0      8333               19          1.0             5          4\n",
       "3       0      7490                6          1.0             7          1\n",
       "4       0      5797                5          1.0             2          5\n",
       "..    ...       ...              ...          ...           ...        ...\n",
       "199     0        50                2          NaN            21        100\n",
       "200     0        60                4          NaN            16        150\n",
       "201     0        70                8          NaN            27        100\n",
       "202     0        80               10          NaN            11        400\n",
       "203     0        90               12          NaN            10        200\n",
       "\n",
       "[204 rows x 6 columns]"
      ]
     },
     "execution_count": 7,
     "metadata": {},
     "output_type": "execute_result"
    }
   ],
   "source": [
    "# Make a list of missing value types\n",
    "missing_values = [\"?\"]\n",
    "\n",
    "ml_data = pd.read_csv(\"./DroneFlights.csv\", na_values = missing_values)\n",
    "pd.set_option(\"display.max_columns\", 500)\n",
    "\n",
    "#display a summary view\n",
    "ml_data"
   ]
  },
  {
   "cell_type": "markdown",
   "id": "7d07f1a1",
   "metadata": {},
   "source": [
    "### Dealing with missing data\n",
    "\n",
    "The imported data frame above has 205 rows. The below code creates a new dataframe and prints out all rows with a least one attribute marked as __NaN__.  As you can see only a few rows have empty values.\n",
    "\n",
    "**DIY Note:** Some of the earlier drone models (those with id less then 100) had bad transponders that malfunctioned with speeds exceeding safety standards.  We will clean those up in the next few steps/"
   ]
  },
  {
   "cell_type": "markdown",
   "id": "062f0810",
   "metadata": {},
   "source": [
    "#### Code Cell 6 ####"
   ]
  },
  {
   "cell_type": "code",
   "execution_count": null,
   "id": "603f6b74",
   "metadata": {
    "tags": []
   },
   "outputs": [],
   "source": [
    "#New Data Frame that displays all rows with at least one attribute marked NaN\n",
    "missing_df = ml_data[ml_data.isna().any(axis=1)]\n",
    "missing_df\n"
   ]
  },
  {
   "cell_type": "markdown",
   "id": "d7ddf1cd",
   "metadata": {},
   "source": [
    "#### Code Cell 7 ####"
   ]
  },
  {
   "cell_type": "code",
   "execution_count": 8,
   "id": "082c556b",
   "metadata": {
    "tags": []
   },
   "outputs": [
    {
     "data": {
      "text/html": [
       "<div>\n",
       "<style scoped>\n",
       "    .dataframe tbody tr th:only-of-type {\n",
       "        vertical-align: middle;\n",
       "    }\n",
       "\n",
       "    .dataframe tbody tr th {\n",
       "        vertical-align: top;\n",
       "    }\n",
       "\n",
       "    .dataframe thead th {\n",
       "        text-align: right;\n",
       "    }\n",
       "</style>\n",
       "<table border=\"1\" class=\"dataframe\">\n",
       "  <thead>\n",
       "    <tr style=\"text-align: right;\">\n",
       "      <th></th>\n",
       "      <th>spy?</th>\n",
       "      <th>drone-id</th>\n",
       "      <th>flight-duration</th>\n",
       "      <th>transponder</th>\n",
       "      <th>max-altitude</th>\n",
       "      <th>max-speed</th>\n",
       "    </tr>\n",
       "  </thead>\n",
       "  <tbody>\n",
       "    <tr>\n",
       "      <th>0</th>\n",
       "      <td>0</td>\n",
       "      <td>7875</td>\n",
       "      <td>10</td>\n",
       "      <td>1.0</td>\n",
       "      <td>6</td>\n",
       "      <td>2</td>\n",
       "    </tr>\n",
       "    <tr>\n",
       "      <th>1</th>\n",
       "      <td>0</td>\n",
       "      <td>7996</td>\n",
       "      <td>11</td>\n",
       "      <td>1.0</td>\n",
       "      <td>4</td>\n",
       "      <td>3</td>\n",
       "    </tr>\n",
       "    <tr>\n",
       "      <th>2</th>\n",
       "      <td>0</td>\n",
       "      <td>8333</td>\n",
       "      <td>19</td>\n",
       "      <td>1.0</td>\n",
       "      <td>5</td>\n",
       "      <td>4</td>\n",
       "    </tr>\n",
       "    <tr>\n",
       "      <th>3</th>\n",
       "      <td>0</td>\n",
       "      <td>7490</td>\n",
       "      <td>6</td>\n",
       "      <td>1.0</td>\n",
       "      <td>7</td>\n",
       "      <td>1</td>\n",
       "    </tr>\n",
       "    <tr>\n",
       "      <th>4</th>\n",
       "      <td>0</td>\n",
       "      <td>5797</td>\n",
       "      <td>5</td>\n",
       "      <td>1.0</td>\n",
       "      <td>2</td>\n",
       "      <td>5</td>\n",
       "    </tr>\n",
       "    <tr>\n",
       "      <th>...</th>\n",
       "      <td>...</td>\n",
       "      <td>...</td>\n",
       "      <td>...</td>\n",
       "      <td>...</td>\n",
       "      <td>...</td>\n",
       "      <td>...</td>\n",
       "    </tr>\n",
       "    <tr>\n",
       "      <th>190</th>\n",
       "      <td>1</td>\n",
       "      <td>3943</td>\n",
       "      <td>28</td>\n",
       "      <td>1.0</td>\n",
       "      <td>21</td>\n",
       "      <td>25</td>\n",
       "    </tr>\n",
       "    <tr>\n",
       "      <th>191</th>\n",
       "      <td>0</td>\n",
       "      <td>6532</td>\n",
       "      <td>19</td>\n",
       "      <td>0.0</td>\n",
       "      <td>8</td>\n",
       "      <td>5</td>\n",
       "    </tr>\n",
       "    <tr>\n",
       "      <th>192</th>\n",
       "      <td>0</td>\n",
       "      <td>4410</td>\n",
       "      <td>35</td>\n",
       "      <td>1.0</td>\n",
       "      <td>11</td>\n",
       "      <td>1</td>\n",
       "    </tr>\n",
       "    <tr>\n",
       "      <th>193</th>\n",
       "      <td>1</td>\n",
       "      <td>5646</td>\n",
       "      <td>27</td>\n",
       "      <td>0.0</td>\n",
       "      <td>23</td>\n",
       "      <td>3</td>\n",
       "    </tr>\n",
       "    <tr>\n",
       "      <th>194</th>\n",
       "      <td>1</td>\n",
       "      <td>8701</td>\n",
       "      <td>34</td>\n",
       "      <td>1.0</td>\n",
       "      <td>20</td>\n",
       "      <td>3</td>\n",
       "    </tr>\n",
       "  </tbody>\n",
       "</table>\n",
       "<p>195 rows × 6 columns</p>\n",
       "</div>"
      ],
      "text/plain": [
       "     spy?  drone-id  flight-duration  transponder  max-altitude  max-speed\n",
       "0       0      7875               10          1.0             6          2\n",
       "1       0      7996               11          1.0             4          3\n",
       "2       0      8333               19          1.0             5          4\n",
       "3       0      7490                6          1.0             7          1\n",
       "4       0      5797                5          1.0             2          5\n",
       "..    ...       ...              ...          ...           ...        ...\n",
       "190     1      3943               28          1.0            21         25\n",
       "191     0      6532               19          0.0             8          5\n",
       "192     0      4410               35          1.0            11          1\n",
       "193     1      5646               27          0.0            23          3\n",
       "194     1      8701               34          1.0            20          3\n",
       "\n",
       "[195 rows x 6 columns]"
      ]
     },
     "execution_count": 8,
     "metadata": {},
     "output_type": "execute_result"
    }
   ],
   "source": [
    "## Fill the missing data and or delete bad data.\n",
    "## The next three lines need to be commnented out for the DIY portion of the lab.  \n",
    "\n",
    "#mean = ml_data['price'].mean()                         #Comment out this line for DIY portion of lab\n",
    "#print(\"The mean vehicle price is: \" + str(mean))       #Comment out this line for DIY portion of lab\n",
    "#ml_data['price'].fillna(mean)                          #Comment out this line for DIY portion of lab\n",
    "\n",
    "#Drop any rows which still have missing values\n",
    "ml_data.dropna(axis=0, how='any',inplace=True)\n",
    "\n",
    "#Summary view - Notice the # of data values was reduced after dropping data.\n",
    "ml_data\n"
   ]
  },
  {
   "cell_type": "markdown",
   "id": "7f970a4b",
   "metadata": {
    "papermill": {
     "duration": 0.019033,
     "end_time": "2021-06-07T00:09:48.224277",
     "exception": false,
     "start_time": "2021-06-07T00:09:48.205244",
     "status": "completed"
    },
    "tags": []
   },
   "source": [
    "### Data Features ###\n",
    "\n",
    "Now that we have done a first pass at cleaning up the data lets review more details about it.  \n",
    "\n",
    "By modern standards, it’s a relatively small dataset, with less than 200 records, where each record has 16 attributes to describe the profile of a vehicle. The attributes are:\n",
    "\n",
    "- `make`: The automobile manufacturer; for example, audi or dodge.\n",
    "- `fuel-type`: Diesel or Gas.\n",
    "- `aspiration`: turbo vs standard.\n",
    "- `num-of-doors`: Number of doors (Two or Four).\n",
    "- `body-style`: wagon, sedan, hatchback, etc. \n",
    "- `drive-wheels`: front wheel drive (fwd), four wheel drive (4wd) or rear-wheel drive (rwd)\n",
    "- `engine-location`: Front or Back.\n",
    "- `curb-weight`: continuous from 1488 to 4066\n",
    "- `engine-type`: dohc, dohcv, l, ohc, ohcf, ohcv, rotor.\n",
    "- `num-of-cylinders`: eight, five, four, six, three, twelve, two.\n",
    "- `horsepower`: continuous from 48 to 288.\n",
    "- `peak-rpm`: continuous from 4150 to 6600.\n",
    "- `city-mpg`: continuous from 13 to 49.\n",
    "- `highway-mpg`: continuous from 16 to 54.\n",
    "- `price`: continuous from 5118 to 45400.\n",
    "- `island-friendly?`: 0 = no; 1 = yes.\n",
    "\n",
    "\n",
    "The last attribute, `island-friendly?`, is known as the target attribute–the attribute that we want the ML model to predict.  Because the target attribute is binary, our model will be performing binary prediction, also known as binary classification.\n",
    "\n",
    "Let's begin exploring the data:\n",
    "\n",
    "\n",
    "**DIY Note:** The target attribute for the DroneFLights data set is `spy?` \n",
    "\n",
    "Other fields in the DroneFlights data set are:\n",
    "- `drone-id`: Randomly generated id for drones.  Older drones have lower id numbers.\n",
    "- `flight-duration`: Friendly drones normally do not fly for more than 20 minutes. \n",
    "- `transponder`: On (1) or Off (0); Older spy drones did not have transponders; but newere ones can fake a transponder signal.\n",
    "- `max-altitide`: Spy drones fly at higher altitudes. \n",
    "- `max-speed`: Spy drones display significantly higher speeds since when spotted they need to make a quick escape.\n"
   ]
  },
  {
   "cell_type": "markdown",
   "id": "c468055e",
   "metadata": {},
   "source": [
    "#### Code Cell 8 ####"
   ]
  },
  {
   "cell_type": "code",
   "execution_count": 9,
   "id": "96943f71",
   "metadata": {
    "papermill": {
     "duration": 2.396119,
     "end_time": "2021-06-07T00:09:50.639536",
     "exception": false,
     "start_time": "2021-06-07T00:09:48.243417",
     "status": "completed"
    },
    "tags": []
   },
   "outputs": [
    {
     "data": {
      "text/html": [
       "<div>\n",
       "<style scoped>\n",
       "    .dataframe tbody tr th:only-of-type {\n",
       "        vertical-align: middle;\n",
       "    }\n",
       "\n",
       "    .dataframe tbody tr th {\n",
       "        vertical-align: top;\n",
       "    }\n",
       "\n",
       "    .dataframe thead th {\n",
       "        text-align: right;\n",
       "    }\n",
       "</style>\n",
       "<table border=\"1\" class=\"dataframe\">\n",
       "  <thead>\n",
       "    <tr style=\"text-align: right;\">\n",
       "      <th></th>\n",
       "      <th>spy?</th>\n",
       "      <th>drone-id</th>\n",
       "      <th>flight-duration</th>\n",
       "      <th>transponder</th>\n",
       "      <th>max-altitude</th>\n",
       "      <th>max-speed</th>\n",
       "    </tr>\n",
       "  </thead>\n",
       "  <tbody>\n",
       "    <tr>\n",
       "      <th>count</th>\n",
       "      <td>195.000000</td>\n",
       "      <td>195.000000</td>\n",
       "      <td>195.000000</td>\n",
       "      <td>195.000000</td>\n",
       "      <td>195.000000</td>\n",
       "      <td>195.000000</td>\n",
       "    </tr>\n",
       "    <tr>\n",
       "      <th>mean</th>\n",
       "      <td>0.507692</td>\n",
       "      <td>5352.902564</td>\n",
       "      <td>22.866667</td>\n",
       "      <td>0.620513</td>\n",
       "      <td>14.866667</td>\n",
       "      <td>11.984615</td>\n",
       "    </tr>\n",
       "    <tr>\n",
       "      <th>std</th>\n",
       "      <td>0.501228</td>\n",
       "      <td>2621.933149</td>\n",
       "      <td>10.520607</td>\n",
       "      <td>0.486508</td>\n",
       "      <td>8.885449</td>\n",
       "      <td>6.778131</td>\n",
       "    </tr>\n",
       "    <tr>\n",
       "      <th>min</th>\n",
       "      <td>0.000000</td>\n",
       "      <td>555.000000</td>\n",
       "      <td>1.000000</td>\n",
       "      <td>0.000000</td>\n",
       "      <td>1.000000</td>\n",
       "      <td>1.000000</td>\n",
       "    </tr>\n",
       "    <tr>\n",
       "      <th>25%</th>\n",
       "      <td>0.000000</td>\n",
       "      <td>3330.000000</td>\n",
       "      <td>16.000000</td>\n",
       "      <td>0.000000</td>\n",
       "      <td>8.000000</td>\n",
       "      <td>6.000000</td>\n",
       "    </tr>\n",
       "    <tr>\n",
       "      <th>50%</th>\n",
       "      <td>1.000000</td>\n",
       "      <td>5382.000000</td>\n",
       "      <td>23.000000</td>\n",
       "      <td>1.000000</td>\n",
       "      <td>14.000000</td>\n",
       "      <td>11.000000</td>\n",
       "    </tr>\n",
       "    <tr>\n",
       "      <th>75%</th>\n",
       "      <td>1.000000</td>\n",
       "      <td>7559.000000</td>\n",
       "      <td>31.500000</td>\n",
       "      <td>1.000000</td>\n",
       "      <td>23.000000</td>\n",
       "      <td>17.500000</td>\n",
       "    </tr>\n",
       "    <tr>\n",
       "      <th>max</th>\n",
       "      <td>1.000000</td>\n",
       "      <td>12001.000000</td>\n",
       "      <td>40.000000</td>\n",
       "      <td>1.000000</td>\n",
       "      <td>30.000000</td>\n",
       "      <td>25.000000</td>\n",
       "    </tr>\n",
       "  </tbody>\n",
       "</table>\n",
       "</div>"
      ],
      "text/plain": [
       "             spy?      drone-id  flight-duration  transponder  max-altitude  \\\n",
       "count  195.000000    195.000000       195.000000   195.000000    195.000000   \n",
       "mean     0.507692   5352.902564        22.866667     0.620513     14.866667   \n",
       "std      0.501228   2621.933149        10.520607     0.486508      8.885449   \n",
       "min      0.000000    555.000000         1.000000     0.000000      1.000000   \n",
       "25%      0.000000   3330.000000        16.000000     0.000000      8.000000   \n",
       "50%      1.000000   5382.000000        23.000000     1.000000     14.000000   \n",
       "75%      1.000000   7559.000000        31.500000     1.000000     23.000000   \n",
       "max      1.000000  12001.000000        40.000000     1.000000     30.000000   \n",
       "\n",
       "        max-speed  \n",
       "count  195.000000  \n",
       "mean    11.984615  \n",
       "std      6.778131  \n",
       "min      1.000000  \n",
       "25%      6.000000  \n",
       "50%     11.000000  \n",
       "75%     17.500000  \n",
       "max     25.000000  "
      ]
     },
     "metadata": {},
     "output_type": "display_data"
    },
    {
     "data": {
      "image/png": "[encoded data removed]",
      "text/plain": [
       "<Figure size 1000x1000 with 6 Axes>"
      ]
     },
     "metadata": {},
     "output_type": "display_data"
    }
   ],
   "source": [
    "for column in ml_data.select_dtypes(include=[\"object\"]).columns:\n",
    "    display(pd.crosstab(index=ml_data[column], columns=\"% observations\", normalize=\"columns\"))\n",
    "\n",
    "# Histograms for each numeric features\n",
    "display(ml_data.describe())\n",
    "%matplotlib inline\n",
    "hist = ml_data.hist(bins=30, sharey=True, figsize=(10, 10))"
   ]
  },
  {
   "cell_type": "markdown",
   "id": "e01386b0",
   "metadata": {
    "papermill": {
     "duration": 0.022357,
     "end_time": "2021-06-07T00:09:50.685414",
     "exception": false,
     "start_time": "2021-06-07T00:09:50.663057",
     "status": "completed"
    },
    "tags": []
   },
   "source": [
    "We can see immediately that:\n",
    "- `city-mpg` is quite quite evenly distributed\n",
    "- `highway-mpg` statistics are very similar to city-mpg.  So we will drop highway-mpg as it seems redundant.\n",
    "- Most of the numeric features are surprisingly nicely distributed, with many showing bell-like `gaussianity`.  `peak-rpm` being a notable exception, so we will drop that feature from the data as well.\n",
    "\n",
    "\n",
    "**DIY Note:** We can see that `drone-id` is evenly distributed and there is no correlation between it and a drone being friendly or a spy.  So we will drop that feature from our data set."
   ]
  },
  {
   "cell_type": "markdown",
   "id": "f800e4c0",
   "metadata": {},
   "source": [
    "#### Code Cell 9 ####"
   ]
  },
  {
   "cell_type": "code",
   "execution_count": null,
   "id": "fd8f0745",
   "metadata": {
    "papermill": {
     "duration": 0.030406,
     "end_time": "2021-06-07T00:09:50.738287",
     "exception": false,
     "start_time": "2021-06-07T00:09:50.707881",
     "status": "completed"
    },
    "tags": []
   },
   "outputs": [],
   "source": [
    "# DIY Note:  You can skip running of the next two lines by commenting them out. \n",
    "\n",
    "#ml_data = ml_data.drop(\"highway-mpg\", axis=1)\n",
    "#ml_data = ml_data.drop(\"peak-rpm\", axis=1)"
   ]
  },
  {
   "cell_type": "code",
   "execution_count": null,
   "id": "070cfdef",
   "metadata": {},
   "outputs": [],
   "source": [
    "# DIY Note:  Uncomment the next line to drop the feature `drone-id` from the data set. \n",
    "ml_data = ml_data.drop(\"drone-id\", axis=1)"
   ]
  },
  {
   "cell_type": "markdown",
   "id": "dd949eb2",
   "metadata": {
    "papermill": {
     "duration": 0.022422,
     "end_time": "2021-06-07T00:09:50.783342",
     "exception": false,
     "start_time": "2021-06-07T00:09:50.760920",
     "status": "completed"
    },
    "tags": []
   },
   "source": [
    "Next let's look at the relationship between each of the features and our target variable.\n",
    "\n",
    "**DIY Note:** In the below code cells carefully review and replace reference `island-friendly?` with `spy?`"
   ]
  },
  {
   "cell_type": "markdown",
   "id": "a9f85fcb",
   "metadata": {},
   "source": [
    "#### Code Cell 10 ####"
   ]
  },
  {
   "cell_type": "code",
   "execution_count": 13,
   "id": "b3d960dc",
   "metadata": {
    "papermill": {
     "duration": 4.645229,
     "end_time": "2021-06-07T00:09:55.451149",
     "exception": false,
     "start_time": "2021-06-07T00:09:50.805920",
     "status": "completed"
    },
    "tags": []
   },
   "outputs": [
    {
     "name": "stdout",
     "output_type": "stream",
     "text": [
      "flight-duration\n"
     ]
    },
    {
     "data": {
      "image/png": "[encoded data removed]",
      "text/plain": [
       "<Figure size 640x480 with 2 Axes>"
      ]
     },
     "metadata": {},
     "output_type": "display_data"
    },
    {
     "name": "stdout",
     "output_type": "stream",
     "text": [
      "transponder\n"
     ]
    },
    {
     "data": {
      "image/png": "[encoded data removed]",
      "text/plain": [
       "<Figure size 640x480 with 2 Axes>"
      ]
     },
     "metadata": {},
     "output_type": "display_data"
    },
    {
     "name": "stdout",
     "output_type": "stream",
     "text": [
      "max-altitude\n"
     ]
    },
    {
     "data": {
      "image/png": "[encoded data removed]",
      "text/plain": [
       "<Figure size 640x480 with 2 Axes>"
      ]
     },
     "metadata": {},
     "output_type": "display_data"
    },
    {
     "name": "stdout",
     "output_type": "stream",
     "text": [
      "max-speed\n"
     ]
    },
    {
     "data": {
      "image/png": "[encoded data removed]",
      "text/plain": [
       "<Figure size 640x480 with 2 Axes>"
      ]
     },
     "metadata": {},
     "output_type": "display_data"
    }
   ],
   "source": [
    "for column in ml_data.select_dtypes(include=[\"object\"]).columns:\n",
    "    if column != \"spy?\":\n",
    "        display(pd.crosstab(index=ml_data[column], columns=ml_data[\"spy?\"], normalize=\"columns\"))\n",
    "\n",
    "for column in ml_data.select_dtypes(exclude=[\"object\"]).columns:\n",
    "    if column != \"spy?\":\n",
    "        print(column)\n",
    "        hist = ml_data[[column, \"spy?\"]].hist(by=\"spy?\", bins=30)\n",
    "        plt.show()"
   ]
  },
  {
   "cell_type": "markdown",
   "id": "f2009ba0",
   "metadata": {},
   "source": [
    "#### Code Cell 11 ####"
   ]
  },
  {
   "cell_type": "code",
   "execution_count": 14,
   "id": "2e8271a6",
   "metadata": {
    "papermill": {
     "duration": 18.552066,
     "end_time": "2021-06-07T00:10:14.041717",
     "exception": false,
     "start_time": "2021-06-07T00:09:55.489651",
     "status": "completed"
    },
    "tags": []
   },
   "outputs": [
    {
     "data": {
      "text/html": [
       "<div>\n",
       "<style scoped>\n",
       "    .dataframe tbody tr th:only-of-type {\n",
       "        vertical-align: middle;\n",
       "    }\n",
       "\n",
       "    .dataframe tbody tr th {\n",
       "        vertical-align: top;\n",
       "    }\n",
       "\n",
       "    .dataframe thead th {\n",
       "        text-align: right;\n",
       "    }\n",
       "</style>\n",
       "<table border=\"1\" class=\"dataframe\">\n",
       "  <thead>\n",
       "    <tr style=\"text-align: right;\">\n",
       "      <th></th>\n",
       "      <th>spy?</th>\n",
       "      <th>flight-duration</th>\n",
       "      <th>transponder</th>\n",
       "      <th>max-altitude</th>\n",
       "      <th>max-speed</th>\n",
       "    </tr>\n",
       "  </thead>\n",
       "  <tbody>\n",
       "    <tr>\n",
       "      <th>spy?</th>\n",
       "      <td>1.000000</td>\n",
       "      <td>0.768521</td>\n",
       "      <td>-0.579844</td>\n",
       "      <td>0.736339</td>\n",
       "      <td>0.396792</td>\n",
       "    </tr>\n",
       "    <tr>\n",
       "      <th>flight-duration</th>\n",
       "      <td>0.768521</td>\n",
       "      <td>1.000000</td>\n",
       "      <td>-0.403708</td>\n",
       "      <td>0.689187</td>\n",
       "      <td>0.357926</td>\n",
       "    </tr>\n",
       "    <tr>\n",
       "      <th>transponder</th>\n",
       "      <td>-0.579844</td>\n",
       "      <td>-0.403708</td>\n",
       "      <td>1.000000</td>\n",
       "      <td>-0.423149</td>\n",
       "      <td>-0.301902</td>\n",
       "    </tr>\n",
       "    <tr>\n",
       "      <th>max-altitude</th>\n",
       "      <td>0.736339</td>\n",
       "      <td>0.689187</td>\n",
       "      <td>-0.423149</td>\n",
       "      <td>1.000000</td>\n",
       "      <td>0.341202</td>\n",
       "    </tr>\n",
       "    <tr>\n",
       "      <th>max-speed</th>\n",
       "      <td>0.396792</td>\n",
       "      <td>0.357926</td>\n",
       "      <td>-0.301902</td>\n",
       "      <td>0.341202</td>\n",
       "      <td>1.000000</td>\n",
       "    </tr>\n",
       "  </tbody>\n",
       "</table>\n",
       "</div>"
      ],
      "text/plain": [
       "                     spy?  flight-duration  transponder  max-altitude  \\\n",
       "spy?             1.000000         0.768521    -0.579844      0.736339   \n",
       "flight-duration  0.768521         1.000000    -0.403708      0.689187   \n",
       "transponder     -0.579844        -0.403708     1.000000     -0.423149   \n",
       "max-altitude     0.736339         0.689187    -0.423149      1.000000   \n",
       "max-speed        0.396792         0.357926    -0.301902      0.341202   \n",
       "\n",
       "                 max-speed  \n",
       "spy?              0.396792  \n",
       "flight-duration   0.357926  \n",
       "transponder      -0.301902  \n",
       "max-altitude      0.341202  \n",
       "max-speed         1.000000  "
      ]
     },
     "metadata": {},
     "output_type": "display_data"
    },
    {
     "data": {
      "image/png": "[encoded data removed]",
      "text/plain": [
       "<Figure size 1400x1400 with 25 Axes>"
      ]
     },
     "metadata": {},
     "output_type": "display_data"
    }
   ],
   "source": [
    "display(ml_data.corr())\n",
    "pd.plotting.scatter_matrix(ml_data, figsize=(14, 14))\n",
    "plt.show()"
   ]
  },
  {
   "cell_type": "markdown",
   "id": "95c1c7d5",
   "metadata": {},
   "source": [
    "#### Code Cell 12 ####"
   ]
  },
  {
   "cell_type": "code",
   "execution_count": 15,
   "id": "1a97ce6e",
   "metadata": {
    "papermill": {
     "duration": 0.057009,
     "end_time": "2021-06-07T00:10:14.251061",
     "exception": false,
     "start_time": "2021-06-07T00:10:14.194052",
     "status": "completed"
    },
    "tags": []
   },
   "outputs": [
    {
     "data": {
      "text/plain": [
       "(195, 5)"
      ]
     },
     "execution_count": 15,
     "metadata": {},
     "output_type": "execute_result"
    }
   ],
   "source": [
    "# Final dimensions of the dataset\n",
    "ml_data.shape"
   ]
  },
  {
   "cell_type": "markdown",
   "id": "163eb167",
   "metadata": {
    "papermill": {
     "duration": 0.050512,
     "end_time": "2021-06-07T00:10:14.352000",
     "exception": false,
     "start_time": "2021-06-07T00:10:14.301488",
     "status": "completed"
    },
    "tags": []
   },
   "source": [
    "Now that we've cleaned up our dataset, let's determine which algorithm to use.  As mentioned above, there appears to be some variables where both high and low (but not intermediate) values are predictive of non island-friendly vehicles. In order to accommodate this in an algorithm like linear regression, we'd need to generate polynomial (or bucketed) terms.  Instead, let's attempt to model this problem using gradient boosted trees.  Amazon SageMaker provides an XGBoost container that we can use to train in a managed, distributed setting, and then host as a real-time prediction endpoint.  XGBoost uses gradient boosted trees which naturally account for non-linear relationships between features and the target variable, as well as accommodating complex interactions between features.\n",
    "\n",
    "Amazon SageMaker XGBoost can train on data in either a CSV or LibSVM format.  For this example, we'll stick with CSV.  It should:\n",
    "- Have the predictor variable in the first column\n",
    "- Not have a header row\n",
    "\n",
    "But first, let's convert our categorical features into numeric features."
   ]
  },
  {
   "cell_type": "markdown",
   "id": "1d7fbf4d",
   "metadata": {},
   "source": [
    "#### Code Cell 13 ####"
   ]
  },
  {
   "cell_type": "code",
   "execution_count": 17,
   "id": "f62f8f22",
   "metadata": {
    "papermill": {
     "duration": 0.07096,
     "end_time": "2021-06-07T00:10:14.473383",
     "exception": false,
     "start_time": "2021-06-07T00:10:14.402423",
     "status": "completed"
    },
    "tags": []
   },
   "outputs": [
    {
     "data": {
      "text/html": [
       "<div>\n",
       "<style scoped>\n",
       "    .dataframe tbody tr th:only-of-type {\n",
       "        vertical-align: middle;\n",
       "    }\n",
       "\n",
       "    .dataframe tbody tr th {\n",
       "        vertical-align: top;\n",
       "    }\n",
       "\n",
       "    .dataframe thead th {\n",
       "        text-align: right;\n",
       "    }\n",
       "</style>\n",
       "<table border=\"1\" class=\"dataframe\">\n",
       "  <thead>\n",
       "    <tr style=\"text-align: right;\">\n",
       "      <th></th>\n",
       "      <th>spy?</th>\n",
       "      <th>flight-duration</th>\n",
       "      <th>transponder</th>\n",
       "      <th>max-altitude</th>\n",
       "      <th>max-speed</th>\n",
       "    </tr>\n",
       "  </thead>\n",
       "  <tbody>\n",
       "    <tr>\n",
       "      <th>0</th>\n",
       "      <td>0</td>\n",
       "      <td>10</td>\n",
       "      <td>1.0</td>\n",
       "      <td>6</td>\n",
       "      <td>2</td>\n",
       "    </tr>\n",
       "    <tr>\n",
       "      <th>1</th>\n",
       "      <td>0</td>\n",
       "      <td>11</td>\n",
       "      <td>1.0</td>\n",
       "      <td>4</td>\n",
       "      <td>3</td>\n",
       "    </tr>\n",
       "    <tr>\n",
       "      <th>2</th>\n",
       "      <td>0</td>\n",
       "      <td>19</td>\n",
       "      <td>1.0</td>\n",
       "      <td>5</td>\n",
       "      <td>4</td>\n",
       "    </tr>\n",
       "    <tr>\n",
       "      <th>3</th>\n",
       "      <td>0</td>\n",
       "      <td>6</td>\n",
       "      <td>1.0</td>\n",
       "      <td>7</td>\n",
       "      <td>1</td>\n",
       "    </tr>\n",
       "    <tr>\n",
       "      <th>4</th>\n",
       "      <td>0</td>\n",
       "      <td>5</td>\n",
       "      <td>1.0</td>\n",
       "      <td>2</td>\n",
       "      <td>5</td>\n",
       "    </tr>\n",
       "    <tr>\n",
       "      <th>...</th>\n",
       "      <td>...</td>\n",
       "      <td>...</td>\n",
       "      <td>...</td>\n",
       "      <td>...</td>\n",
       "      <td>...</td>\n",
       "    </tr>\n",
       "    <tr>\n",
       "      <th>190</th>\n",
       "      <td>1</td>\n",
       "      <td>28</td>\n",
       "      <td>1.0</td>\n",
       "      <td>21</td>\n",
       "      <td>25</td>\n",
       "    </tr>\n",
       "    <tr>\n",
       "      <th>191</th>\n",
       "      <td>0</td>\n",
       "      <td>19</td>\n",
       "      <td>0.0</td>\n",
       "      <td>8</td>\n",
       "      <td>5</td>\n",
       "    </tr>\n",
       "    <tr>\n",
       "      <th>192</th>\n",
       "      <td>0</td>\n",
       "      <td>35</td>\n",
       "      <td>1.0</td>\n",
       "      <td>11</td>\n",
       "      <td>1</td>\n",
       "    </tr>\n",
       "    <tr>\n",
       "      <th>193</th>\n",
       "      <td>1</td>\n",
       "      <td>27</td>\n",
       "      <td>0.0</td>\n",
       "      <td>23</td>\n",
       "      <td>3</td>\n",
       "    </tr>\n",
       "    <tr>\n",
       "      <th>194</th>\n",
       "      <td>1</td>\n",
       "      <td>34</td>\n",
       "      <td>1.0</td>\n",
       "      <td>20</td>\n",
       "      <td>3</td>\n",
       "    </tr>\n",
       "  </tbody>\n",
       "</table>\n",
       "<p>195 rows × 5 columns</p>\n",
       "</div>"
      ],
      "text/plain": [
       "     spy?  flight-duration  transponder  max-altitude  max-speed\n",
       "0       0               10          1.0             6          2\n",
       "1       0               11          1.0             4          3\n",
       "2       0               19          1.0             5          4\n",
       "3       0                6          1.0             7          1\n",
       "4       0                5          1.0             2          5\n",
       "..    ...              ...          ...           ...        ...\n",
       "190     1               28          1.0            21         25\n",
       "191     0               19          0.0             8          5\n",
       "192     0               35          1.0            11          1\n",
       "193     1               27          0.0            23          3\n",
       "194     1               34          1.0            20          3\n",
       "\n",
       "[195 rows x 5 columns]"
      ]
     },
     "execution_count": 17,
     "metadata": {},
     "output_type": "execute_result"
    }
   ],
   "source": [
    "model_data = pd.get_dummies(ml_data)\n",
    "\n",
    "model_data"
   ]
  },
  {
   "cell_type": "markdown",
   "id": "705206fe",
   "metadata": {
    "papermill": {
     "duration": 0.050777,
     "end_time": "2021-06-07T00:10:14.574494",
     "exception": false,
     "start_time": "2021-06-07T00:10:14.523717",
     "status": "completed"
    },
    "tags": []
   },
   "source": [
    "And now let's split the data into training, validation, and test sets.  This will help prevent us from over-fitting the model, and allow us to test the model's accuracy on data it hasn't already seen."
   ]
  },
  {
   "cell_type": "markdown",
   "id": "5dd99cbf",
   "metadata": {},
   "source": [
    "#### Code Cell 14 ####"
   ]
  },
  {
   "cell_type": "code",
   "execution_count": 18,
   "id": "cdd894ee",
   "metadata": {
    "papermill": {
     "duration": 0.246303,
     "end_time": "2021-06-07T00:10:14.871668",
     "exception": false,
     "start_time": "2021-06-07T00:10:14.625365",
     "status": "completed"
    },
    "tags": []
   },
   "outputs": [],
   "source": [
    "train_data, validation_data, test_data = np.split(\n",
    "    model_data.sample(frac=1, random_state=1729),\n",
    "    [int(0.7 * len(model_data)), int(0.9 * len(model_data))],\n",
    ")\n",
    "train_data.to_csv(\"train.csv\", header=False, index=False)\n",
    "validation_data.to_csv(\"validation.csv\", header=False, index=False)"
   ]
  },
  {
   "cell_type": "markdown",
   "id": "3d8d4d49",
   "metadata": {
    "papermill": {
     "duration": 0.050591,
     "end_time": "2021-06-07T00:10:14.972677",
     "exception": false,
     "start_time": "2021-06-07T00:10:14.922086",
     "status": "completed"
    },
    "tags": []
   },
   "source": [
    "Now we'll upload these files to S3."
   ]
  },
  {
   "cell_type": "markdown",
   "id": "a9b0c9da",
   "metadata": {},
   "source": [
    "#### Code Cell 15 ####"
   ]
  },
  {
   "cell_type": "code",
   "execution_count": 19,
   "id": "c2e2c7a0",
   "metadata": {
    "papermill": {
     "duration": 0.79455,
     "end_time": "2021-06-07T00:10:15.817950",
     "exception": false,
     "start_time": "2021-06-07T00:10:15.023400",
     "status": "completed"
    },
    "tags": []
   },
   "outputs": [],
   "source": [
    "boto3.Session().resource(\"s3\").Bucket(bucket).Object(\n",
    "    os.path.join(prefix, \"train/train.csv\")\n",
    ").upload_file(\"train.csv\")\n",
    "boto3.Session().resource(\"s3\").Bucket(bucket).Object(\n",
    "    os.path.join(prefix, \"validation/validation.csv\")\n",
    ").upload_file(\"validation.csv\")"
   ]
  },
  {
   "cell_type": "markdown",
   "id": "cfc1dbbe",
   "metadata": {
    "papermill": {
     "duration": 0.050157,
     "end_time": "2021-06-07T00:10:15.918579",
     "exception": false,
     "start_time": "2021-06-07T00:10:15.868422",
     "status": "completed"
    },
    "tags": []
   },
   "source": [
    "---\n",
    "## Train\n",
    "\n",
    "Moving onto training, first we'll need to specify the locations of the XGBoost algorithm containers."
   ]
  },
  {
   "cell_type": "markdown",
   "id": "a627f8c1",
   "metadata": {},
   "source": [
    "#### Code Cell 16 ####"
   ]
  },
  {
   "cell_type": "code",
   "execution_count": 20,
   "id": "18daafb8",
   "metadata": {
    "papermill": {
     "duration": 0.071985,
     "end_time": "2021-06-07T00:10:16.040629",
     "exception": false,
     "start_time": "2021-06-07T00:10:15.968644",
     "status": "completed"
    },
    "tags": []
   },
   "outputs": [
    {
     "data": {
      "text/plain": [
       "'811284229777.dkr.ecr.us-east-1.amazonaws.com/xgboost:latest'"
      ]
     },
     "metadata": {},
     "output_type": "display_data"
    }
   ],
   "source": [
    "container = sagemaker.image_uris.retrieve(\"xgboost\", boto3.Session().region_name, \"latest\")\n",
    "display(container)"
   ]
  },
  {
   "cell_type": "markdown",
   "id": "224cf099",
   "metadata": {
    "papermill": {
     "duration": 0.050814,
     "end_time": "2021-06-07T00:10:16.142405",
     "exception": false,
     "start_time": "2021-06-07T00:10:16.091591",
     "status": "completed"
    },
    "tags": []
   },
   "source": [
    "Then, because we're training with the CSV file format, we'll create `TrainingInput`s that our training function can use as a pointer to the files in S3."
   ]
  },
  {
   "cell_type": "markdown",
   "id": "9c5ac5d7",
   "metadata": {},
   "source": [
    "#### Code Cell 17 ####"
   ]
  },
  {
   "cell_type": "code",
   "execution_count": 21,
   "id": "c9bd78c2",
   "metadata": {
    "papermill": {
     "duration": 0.05658,
     "end_time": "2021-06-07T00:10:16.249848",
     "exception": false,
     "start_time": "2021-06-07T00:10:16.193268",
     "status": "completed"
    },
    "tags": []
   },
   "outputs": [],
   "source": [
    "s3_input_train = TrainingInput(\n",
    "    s3_data=\"s3://{}/{}/train\".format(bucket, prefix), content_type=\"csv\"\n",
    ")\n",
    "s3_input_validation = TrainingInput(\n",
    "    s3_data=\"s3://{}/{}/validation/\".format(bucket, prefix), content_type=\"csv\"\n",
    ")"
   ]
  },
  {
   "cell_type": "markdown",
   "id": "70ed37a1",
   "metadata": {
    "papermill": {
     "duration": 0.050343,
     "end_time": "2021-06-07T00:10:16.350919",
     "exception": false,
     "start_time": "2021-06-07T00:10:16.300576",
     "status": "completed"
    },
    "tags": []
   },
   "source": [
    "Now, we can specify a few parameters like what type of training instances we'd like to use and how many, as well as our XGBoost hyperparameters.  A few key hyperparameters are:\n",
    "- `max_depth` controls how deep each tree within the algorithm can be built.  Deeper trees can lead to better fit, but are more computationally expensive and can lead to overfitting.  There is typically some trade-off in model performance that needs to be explored between numerous shallow trees and a smaller number of deeper trees.\n",
    "- `subsample` controls sampling of the training data.  This technique can help reduce overfitting, but setting it too low can also starve the model of data.\n",
    "- `num_round` controls the number of boosting rounds.  This is essentially the subsequent models that are trained using the residuals of previous iterations.  Again, more rounds should produce a better fit on the training data, but can be computationally expensive or lead to over-fitting.\n",
    "- `eta` controls how aggressive each round of boosting is.  Larger values lead to more conservative boosting.\n",
    "- `gamma` controls how aggressively trees are grown.  Larger values lead to more conservative models.\n",
    "\n",
    "More detail on XGBoost's hyper-parameters can be found on their GitHub [page](https://github.com/dmlc/xgboost/blob/master/doc/parameter.md)."
   ]
  },
  {
   "cell_type": "markdown",
   "id": "4e26a954",
   "metadata": {},
   "source": [
    "#### Code Cell 18 ####"
   ]
  },
  {
   "cell_type": "code",
   "execution_count": 22,
   "id": "698bb2a8",
   "metadata": {
    "papermill": {
     "duration": 252.035305,
     "end_time": "2021-06-07T00:14:28.436818",
     "exception": false,
     "start_time": "2021-06-07T00:10:16.401513",
     "status": "completed"
    },
    "tags": []
   },
   "outputs": [
    {
     "name": "stderr",
     "output_type": "stream",
     "text": [
      "INFO:sagemaker:Creating training-job with name: xgboost-2023-06-17-16-37-00-670\n"
     ]
    },
    {
     "name": "stdout",
     "output_type": "stream",
     "text": [
      "2023-06-17 16:37:01 Starting - Starting the training job...\n",
      "2023-06-17 16:37:37 Starting - Preparing the instances for training.........\n",
      "2023-06-17 16:38:55 Downloading - Downloading input data...\n",
      "2023-06-17 16:39:26 Training - Downloading the training image...\n",
      "2023-06-17 16:39:56 Training - Training image download completed. Training in progress..\u001b[34mArguments: train\u001b[0m\n",
      "\u001b[34m[2023-06-17:16:40:11:INFO] Running standalone xgboost training.\u001b[0m\n",
      "\u001b[34m[2023-06-17:16:40:11:INFO] File size need to be processed in the node: 0.0mb. Available memory size in the node: 8598.59mb\u001b[0m\n",
      "\u001b[34m[2023-06-17:16:40:11:INFO] Determined delimiter of CSV input is ','\u001b[0m\n",
      "\u001b[34m[16:40:11] S3DistributionType set as FullyReplicated\u001b[0m\n",
      "\u001b[34m[16:40:11] 136x4 matrix with 544 entries loaded from /opt/ml/input/data/train?format=csv&label_column=0&delimiter=,\u001b[0m\n",
      "\u001b[34m[2023-06-17:16:40:11:INFO] Determined delimiter of CSV input is ','\u001b[0m\n",
      "\u001b[34m[16:40:11] S3DistributionType set as FullyReplicated\u001b[0m\n",
      "\u001b[34m[16:40:11] 39x4 matrix with 156 entries loaded from /opt/ml/input/data/validation?format=csv&label_column=0&delimiter=,\u001b[0m\n",
      "\u001b[34m[16:40:11] src/tree/updater_prune.cc:74: tree pruning end, 1 roots, 4 extra nodes, 0 pruned nodes, max_depth=2\u001b[0m\n",
      "\u001b[34m[0]#011train-error:0.095588#011validation-error:0.128205\u001b[0m\n",
      "\u001b[34m[16:40:11] src/tree/updater_prune.cc:74: tree pruning end, 1 roots, 2 extra nodes, 2 pruned nodes, max_depth=1\u001b[0m\n",
      "\u001b[34m[1]#011train-error:0.095588#011validation-error:0.128205\u001b[0m\n",
      "\u001b[34m[16:40:11] src/tree/updater_prune.cc:74: tree pruning end, 1 roots, 2 extra nodes, 2 pruned nodes, max_depth=1\u001b[0m\n",
      "\u001b[34m[2]#011train-error:0.095588#011validation-error:0.128205\u001b[0m\n",
      "\u001b[34m[16:40:11] src/tree/updater_prune.cc:74: tree pruning end, 1 roots, 2 extra nodes, 2 pruned nodes, max_depth=1\u001b[0m\n",
      "\u001b[34m[3]#011train-error:0.095588#011validation-error:0.128205\u001b[0m\n",
      "\u001b[34m[16:40:11] src/tree/updater_prune.cc:74: tree pruning end, 1 roots, 2 extra nodes, 2 pruned nodes, max_depth=1\u001b[0m\n",
      "\u001b[34m[4]#011train-error:0.095588#011validation-error:0.128205\u001b[0m\n",
      "\u001b[34m[16:40:11] src/tree/updater_prune.cc:74: tree pruning end, 1 roots, 2 extra nodes, 2 pruned nodes, max_depth=1\u001b[0m\n",
      "\u001b[34m[5]#011train-error:0.095588#011validation-error:0.128205\u001b[0m\n",
      "\u001b[34m[16:40:11] src/tree/updater_prune.cc:74: tree pruning end, 1 roots, 2 extra nodes, 2 pruned nodes, max_depth=1\u001b[0m\n",
      "\u001b[34m[6]#011train-error:0.095588#011validation-error:0.128205\u001b[0m\n",
      "\u001b[34m[16:40:11] src/tree/updater_prune.cc:74: tree pruning end, 1 roots, 2 extra nodes, 0 pruned nodes, max_depth=1\u001b[0m\n",
      "\u001b[34m[7]#011train-error:0.095588#011validation-error:0.128205\u001b[0m\n",
      "\u001b[34m[16:40:11] src/tree/updater_prune.cc:74: tree pruning end, 1 roots, 2 extra nodes, 0 pruned nodes, max_depth=1\u001b[0m\n",
      "\u001b[34m[8]#011train-error:0.095588#011validation-error:0.128205\u001b[0m\n",
      "\u001b[34m[16:40:11] src/tree/updater_prune.cc:74: tree pruning end, 1 roots, 2 extra nodes, 0 pruned nodes, max_depth=1\u001b[0m\n",
      "\u001b[34m[9]#011train-error:0.095588#011validation-error:0.128205\u001b[0m\n",
      "\u001b[34m[16:40:11] src/tree/updater_prune.cc:74: tree pruning end, 1 roots, 2 extra nodes, 0 pruned nodes, max_depth=1\u001b[0m\n",
      "\u001b[34m[10]#011train-error:0.022059#011validation-error:0.076923\u001b[0m\n",
      "\u001b[34m[16:40:11] src/tree/updater_prune.cc:74: tree pruning end, 1 roots, 2 extra nodes, 0 pruned nodes, max_depth=1\u001b[0m\n",
      "\u001b[34m[11]#011train-error:0.029412#011validation-error:0.076923\u001b[0m\n",
      "\u001b[34m[16:40:11] src/tree/updater_prune.cc:74: tree pruning end, 1 roots, 2 extra nodes, 0 pruned nodes, max_depth=1\u001b[0m\n",
      "\u001b[34m[12]#011train-error:0.029412#011validation-error:0.076923\u001b[0m\n",
      "\u001b[34m[16:40:11] src/tree/updater_prune.cc:74: tree pruning end, 1 roots, 0 extra nodes, 0 pruned nodes, max_depth=0\u001b[0m\n",
      "\u001b[34m[13]#011train-error:0.029412#011validation-error:0.076923\u001b[0m\n",
      "\u001b[34m[16:40:11] src/tree/updater_prune.cc:74: tree pruning end, 1 roots, 2 extra nodes, 0 pruned nodes, max_depth=1\u001b[0m\n",
      "\u001b[34m[14]#011train-error:0.022059#011validation-error:0.076923\u001b[0m\n",
      "\u001b[34m[16:40:11] src/tree/updater_prune.cc:74: tree pruning end, 1 roots, 0 extra nodes, 2 pruned nodes, max_depth=0\u001b[0m\n",
      "\u001b[34m[15]#011train-error:0.022059#011validation-error:0.076923\u001b[0m\n",
      "\u001b[34m[16:40:11] src/tree/updater_prune.cc:74: tree pruning end, 1 roots, 0 extra nodes, 0 pruned nodes, max_depth=0\u001b[0m\n",
      "\u001b[34m[16]#011train-error:0.022059#011validation-error:0.076923\u001b[0m\n",
      "\u001b[34m[16:40:11] src/tree/updater_prune.cc:74: tree pruning end, 1 roots, 0 extra nodes, 2 pruned nodes, max_depth=0\u001b[0m\n",
      "\u001b[34m[17]#011train-error:0.029412#011validation-error:0.076923\u001b[0m\n",
      "\u001b[34m[16:40:11] src/tree/updater_prune.cc:74: tree pruning end, 1 roots, 0 extra nodes, 2 pruned nodes, max_depth=0\u001b[0m\n",
      "\u001b[34m[18]#011train-error:0.022059#011validation-error:0.076923\u001b[0m\n",
      "\u001b[34m[16:40:11] src/tree/updater_prune.cc:74: tree pruning end, 1 roots, 0 extra nodes, 0 pruned nodes, max_depth=0\u001b[0m\n",
      "\u001b[34m[19]#011train-error:0.022059#011validation-error:0.076923\u001b[0m\n",
      "\u001b[34m[16:40:11] src/tree/updater_prune.cc:74: tree pruning end, 1 roots, 0 extra nodes, 2 pruned nodes, max_depth=0\u001b[0m\n",
      "\u001b[34m[20]#011train-error:0.029412#011validation-error:0.076923\u001b[0m\n",
      "\u001b[34m[16:40:11] src/tree/updater_prune.cc:74: tree pruning end, 1 roots, 0 extra nodes, 2 pruned nodes, max_depth=0\u001b[0m\n",
      "\u001b[34m[21]#011train-error:0.029412#011validation-error:0.076923\u001b[0m\n",
      "\u001b[34m[16:40:11] src/tree/updater_prune.cc:74: tree pruning end, 1 roots, 0 extra nodes, 2 pruned nodes, max_depth=0\u001b[0m\n",
      "\u001b[34m[22]#011train-error:0.029412#011validation-error:0.076923\u001b[0m\n",
      "\u001b[34m[16:40:11] src/tree/updater_prune.cc:74: tree pruning end, 1 roots, 2 extra nodes, 0 pruned nodes, max_depth=1\u001b[0m\n",
      "\u001b[34m[23]#011train-error:0.022059#011validation-error:0.076923\u001b[0m\n",
      "\u001b[34m[16:40:11] src/tree/updater_prune.cc:74: tree pruning end, 1 roots, 0 extra nodes, 0 pruned nodes, max_depth=0\u001b[0m\n",
      "\u001b[34m[24]#011train-error:0.022059#011validation-error:0.076923\u001b[0m\n",
      "\u001b[34m[16:40:11] src/tree/updater_prune.cc:74: tree pruning end, 1 roots, 0 extra nodes, 0 pruned nodes, max_depth=0\u001b[0m\n",
      "\u001b[34m[25]#011train-error:0.022059#011validation-error:0.076923\u001b[0m\n",
      "\u001b[34m[16:40:11] src/tree/updater_prune.cc:74: tree pruning end, 1 roots, 0 extra nodes, 0 pruned nodes, max_depth=0\u001b[0m\n",
      "\u001b[34m[26]#011train-error:0.022059#011validation-error:0.076923\u001b[0m\n",
      "\u001b[34m[16:40:11] src/tree/updater_prune.cc:74: tree pruning end, 1 roots, 0 extra nodes, 0 pruned nodes, max_depth=0\u001b[0m\n",
      "\u001b[34m[27]#011train-error:0.022059#011validation-error:0.076923\u001b[0m\n",
      "\u001b[34m[16:40:11] src/tree/updater_prune.cc:74: tree pruning end, 1 roots, 0 extra nodes, 0 pruned nodes, max_depth=0\u001b[0m\n",
      "\u001b[34m[28]#011train-error:0.022059#011validation-error:0.076923\u001b[0m\n",
      "\u001b[34m[16:40:11] src/tree/updater_prune.cc:74: tree pruning end, 1 roots, 0 extra nodes, 0 pruned nodes, max_depth=0\u001b[0m\n",
      "\u001b[34m[29]#011train-error:0.022059#011validation-error:0.076923\u001b[0m\n",
      "\u001b[34m[16:40:11] src/tree/updater_prune.cc:74: tree pruning end, 1 roots, 0 extra nodes, 2 pruned nodes, max_depth=0\u001b[0m\n",
      "\u001b[34m[30]#011train-error:0.022059#011validation-error:0.076923\u001b[0m\n",
      "\u001b[34m[16:40:11] src/tree/updater_prune.cc:74: tree pruning end, 1 roots, 0 extra nodes, 0 pruned nodes, max_depth=0\u001b[0m\n",
      "\u001b[34m[31]#011train-error:0.022059#011validation-error:0.076923\u001b[0m\n",
      "\u001b[34m[16:40:11] src/tree/updater_prune.cc:74: tree pruning end, 1 roots, 0 extra nodes, 0 pruned nodes, max_depth=0\u001b[0m\n",
      "\u001b[34m[32]#011train-error:0.022059#011validation-error:0.076923\u001b[0m\n",
      "\u001b[34m[16:40:11] src/tree/updater_prune.cc:74: tree pruning end, 1 roots, 0 extra nodes, 0 pruned nodes, max_depth=0\u001b[0m\n",
      "\u001b[34m[33]#011train-error:0.022059#011validation-error:0.076923\u001b[0m\n",
      "\u001b[34m[16:40:11] src/tree/updater_prune.cc:74: tree pruning end, 1 roots, 0 extra nodes, 0 pruned nodes, max_depth=0\u001b[0m\n",
      "\u001b[34m[34]#011train-error:0.022059#011validation-error:0.076923\u001b[0m\n",
      "\u001b[34m[16:40:11] src/tree/updater_prune.cc:74: tree pruning end, 1 roots, 0 extra nodes, 0 pruned nodes, max_depth=0\u001b[0m\n",
      "\u001b[34m[35]#011train-error:0.022059#011validation-error:0.076923\u001b[0m\n",
      "\u001b[34m[16:40:11] src/tree/updater_prune.cc:74: tree pruning end, 1 roots, 0 extra nodes, 0 pruned nodes, max_depth=0\u001b[0m\n",
      "\u001b[34m[36]#011train-error:0.022059#011validation-error:0.076923\u001b[0m\n",
      "\u001b[34m[16:40:11] src/tree/updater_prune.cc:74: tree pruning end, 1 roots, 0 extra nodes, 0 pruned nodes, max_depth=0\u001b[0m\n",
      "\u001b[34m[37]#011train-error:0.022059#011validation-error:0.076923\u001b[0m\n",
      "\u001b[34m[16:40:11] src/tree/updater_prune.cc:74: tree pruning end, 1 roots, 0 extra nodes, 0 pruned nodes, max_depth=0\u001b[0m\n",
      "\u001b[34m[38]#011train-error:0.022059#011validation-error:0.076923\u001b[0m\n",
      "\u001b[34m[16:40:11] src/tree/updater_prune.cc:74: tree pruning end, 1 roots, 0 extra nodes, 0 pruned nodes, max_depth=0\u001b[0m\n",
      "\u001b[34m[39]#011train-error:0.022059#011validation-error:0.076923\u001b[0m\n",
      "\u001b[34m[16:40:11] src/tree/updater_prune.cc:74: tree pruning end, 1 roots, 0 extra nodes, 0 pruned nodes, max_depth=0\u001b[0m\n",
      "\u001b[34m[40]#011train-error:0.022059#011validation-error:0.076923\u001b[0m\n",
      "\u001b[34m[16:40:11] src/tree/updater_prune.cc:74: tree pruning end, 1 roots, 0 extra nodes, 0 pruned nodes, max_depth=0\u001b[0m\n",
      "\u001b[34m[41]#011train-error:0.022059#011validation-error:0.076923\u001b[0m\n",
      "\u001b[34m[16:40:11] src/tree/updater_prune.cc:74: tree pruning end, 1 roots, 0 extra nodes, 0 pruned nodes, max_depth=0\u001b[0m\n",
      "\u001b[34m[42]#011train-error:0.022059#011validation-error:0.076923\u001b[0m\n",
      "\u001b[34m[16:40:11] src/tree/updater_prune.cc:74: tree pruning end, 1 roots, 0 extra nodes, 0 pruned nodes, max_depth=0\u001b[0m\n",
      "\u001b[34m[43]#011train-error:0.022059#011validation-error:0.076923\u001b[0m\n",
      "\u001b[34m[16:40:11] src/tree/updater_prune.cc:74: tree pruning end, 1 roots, 0 extra nodes, 0 pruned nodes, max_depth=0\u001b[0m\n",
      "\u001b[34m[44]#011train-error:0.022059#011validation-error:0.076923\u001b[0m\n",
      "\u001b[34m[16:40:11] src/tree/updater_prune.cc:74: tree pruning end, 1 roots, 0 extra nodes, 2 pruned nodes, max_depth=0\u001b[0m\n",
      "\u001b[34m[45]#011train-error:0.022059#011validation-error:0.076923\u001b[0m\n",
      "\u001b[34m[16:40:11] src/tree/updater_prune.cc:74: tree pruning end, 1 roots, 0 extra nodes, 2 pruned nodes, max_depth=0\u001b[0m\n",
      "\u001b[34m[46]#011train-error:0.022059#011validation-error:0.076923\u001b[0m\n",
      "\u001b[34m[16:40:11] src/tree/updater_prune.cc:74: tree pruning end, 1 roots, 0 extra nodes, 2 pruned nodes, max_depth=0\u001b[0m\n",
      "\u001b[34m[47]#011train-error:0.022059#011validation-error:0.076923\u001b[0m\n",
      "\u001b[34m[16:40:11] src/tree/updater_prune.cc:74: tree pruning end, 1 roots, 0 extra nodes, 0 pruned nodes, max_depth=0\u001b[0m\n",
      "\u001b[34m[48]#011train-error:0.022059#011validation-error:0.076923\u001b[0m\n",
      "\u001b[34m[16:40:11] src/tree/updater_prune.cc:74: tree pruning end, 1 roots, 0 extra nodes, 0 pruned nodes, max_depth=0\u001b[0m\n",
      "\u001b[34m[49]#011train-error:0.022059#011validation-error:0.076923\u001b[0m\n",
      "\u001b[34m[16:40:11] src/tree/updater_prune.cc:74: tree pruning end, 1 roots, 0 extra nodes, 0 pruned nodes, max_depth=0\u001b[0m\n",
      "\u001b[34m[50]#011train-error:0.022059#011validation-error:0.076923\u001b[0m\n",
      "\u001b[34m[16:40:11] src/tree/updater_prune.cc:74: tree pruning end, 1 roots, 0 extra nodes, 0 pruned nodes, max_depth=0\u001b[0m\n",
      "\u001b[34m[51]#011train-error:0.022059#011validation-error:0.076923\u001b[0m\n",
      "\u001b[34m[16:40:11] src/tree/updater_prune.cc:74: tree pruning end, 1 roots, 0 extra nodes, 0 pruned nodes, max_depth=0\u001b[0m\n",
      "\u001b[34m[52]#011train-error:0.022059#011validation-error:0.076923\u001b[0m\n",
      "\u001b[34m[16:40:11] src/tree/updater_prune.cc:74: tree pruning end, 1 roots, 0 extra nodes, 2 pruned nodes, max_depth=0\u001b[0m\n",
      "\u001b[34m[53]#011train-error:0.022059#011validation-error:0.076923\u001b[0m\n",
      "\u001b[34m[16:40:11] src/tree/updater_prune.cc:74: tree pruning end, 1 roots, 0 extra nodes, 2 pruned nodes, max_depth=0\u001b[0m\n",
      "\u001b[34m[54]#011train-error:0.022059#011validation-error:0.076923\u001b[0m\n",
      "\u001b[34m[16:40:11] src/tree/updater_prune.cc:74: tree pruning end, 1 roots, 0 extra nodes, 2 pruned nodes, max_depth=0\u001b[0m\n",
      "\u001b[34m[55]#011train-error:0.022059#011validation-error:0.076923\u001b[0m\n",
      "\u001b[34m[16:40:11] src/tree/updater_prune.cc:74: tree pruning end, 1 roots, 0 extra nodes, 2 pruned nodes, max_depth=0\u001b[0m\n",
      "\u001b[34m[56]#011train-error:0.022059#011validation-error:0.076923\u001b[0m\n",
      "\u001b[34m[16:40:11] src/tree/updater_prune.cc:74: tree pruning end, 1 roots, 0 extra nodes, 2 pruned nodes, max_depth=0\u001b[0m\n",
      "\u001b[34m[57]#011train-error:0.022059#011validation-error:0.076923\u001b[0m\n",
      "\u001b[34m[16:40:11] src/tree/updater_prune.cc:74: tree pruning end, 1 roots, 0 extra nodes, 0 pruned nodes, max_depth=0\u001b[0m\n",
      "\u001b[34m[58]#011train-error:0.022059#011validation-error:0.076923\u001b[0m\n",
      "\u001b[34m[16:40:11] src/tree/updater_prune.cc:74: tree pruning end, 1 roots, 0 extra nodes, 0 pruned nodes, max_depth=0\u001b[0m\n",
      "\u001b[34m[59]#011train-error:0.022059#011validation-error:0.076923\u001b[0m\n",
      "\u001b[34m[16:40:11] src/tree/updater_prune.cc:74: tree pruning end, 1 roots, 0 extra nodes, 0 pruned nodes, max_depth=0\u001b[0m\n",
      "\u001b[34m[60]#011train-error:0.022059#011validation-error:0.076923\u001b[0m\n",
      "\u001b[34m[16:40:11] src/tree/updater_prune.cc:74: tree pruning end, 1 roots, 0 extra nodes, 2 pruned nodes, max_depth=0\u001b[0m\n",
      "\u001b[34m[61]#011train-error:0.022059#011validation-error:0.076923\u001b[0m\n",
      "\u001b[34m[16:40:11] src/tree/updater_prune.cc:74: tree pruning end, 1 roots, 0 extra nodes, 2 pruned nodes, max_depth=0\u001b[0m\n",
      "\u001b[34m[62]#011train-error:0.022059#011validation-error:0.076923\u001b[0m\n",
      "\u001b[34m[16:40:11] src/tree/updater_prune.cc:74: tree pruning end, 1 roots, 0 extra nodes, 0 pruned nodes, max_depth=0\u001b[0m\n",
      "\u001b[34m[63]#011train-error:0.022059#011validation-error:0.076923\u001b[0m\n",
      "\u001b[34m[16:40:11] src/tree/updater_prune.cc:74: tree pruning end, 1 roots, 2 extra nodes, 0 pruned nodes, max_depth=1\u001b[0m\n",
      "\u001b[34m[64]#011train-error:0.022059#011validation-error:0.076923\u001b[0m\n",
      "\u001b[34m[16:40:11] src/tree/updater_prune.cc:74: tree pruning end, 1 roots, 0 extra nodes, 0 pruned nodes, max_depth=0\u001b[0m\n",
      "\u001b[34m[65]#011train-error:0.044118#011validation-error:0.076923\u001b[0m\n",
      "\u001b[34m[16:40:11] src/tree/updater_prune.cc:74: tree pruning end, 1 roots, 0 extra nodes, 2 pruned nodes, max_depth=0\u001b[0m\n",
      "\u001b[34m[66]#011train-error:0.044118#011validation-error:0.076923\u001b[0m\n",
      "\u001b[34m[16:40:11] src/tree/updater_prune.cc:74: tree pruning end, 1 roots, 0 extra nodes, 0 pruned nodes, max_depth=0\u001b[0m\n",
      "\u001b[34m[67]#011train-error:0.044118#011validation-error:0.076923\u001b[0m\n",
      "\u001b[34m[16:40:11] src/tree/updater_prune.cc:74: tree pruning end, 1 roots, 0 extra nodes, 0 pruned nodes, max_depth=0\u001b[0m\n",
      "\u001b[34m[68]#011train-error:0.044118#011validation-error:0.076923\u001b[0m\n",
      "\u001b[34m[16:40:11] src/tree/updater_prune.cc:74: tree pruning end, 1 roots, 0 extra nodes, 0 pruned nodes, max_depth=0\u001b[0m\n",
      "\u001b[34m[69]#011train-error:0.044118#011validation-error:0.076923\u001b[0m\n",
      "\u001b[34m[16:40:11] src/tree/updater_prune.cc:74: tree pruning end, 1 roots, 0 extra nodes, 0 pruned nodes, max_depth=0\u001b[0m\n",
      "\u001b[34m[70]#011train-error:0.022059#011validation-error:0.076923\u001b[0m\n",
      "\u001b[34m[16:40:11] src/tree/updater_prune.cc:74: tree pruning end, 1 roots, 0 extra nodes, 0 pruned nodes, max_depth=0\u001b[0m\n",
      "\u001b[34m[71]#011train-error:0.022059#011validation-error:0.076923\u001b[0m\n",
      "\u001b[34m[16:40:11] src/tree/updater_prune.cc:74: tree pruning end, 1 roots, 0 extra nodes, 2 pruned nodes, max_depth=0\u001b[0m\n",
      "\u001b[34m[72]#011train-error:0.022059#011validation-error:0.076923\u001b[0m\n",
      "\u001b[34m[73]#011train-error:0.022059#011validation-error:0.076923\u001b[0m\n",
      "\u001b[34m[16:40:11] src/tree/updater_prune.cc:74: tree pruning end, 1 roots, 0 extra nodes, 0 pruned nodes, max_depth=0\u001b[0m\n",
      "\u001b[34m[16:40:11] src/tree/updater_prune.cc:74: tree pruning end, 1 roots, 0 extra nodes, 0 pruned nodes, max_depth=0\u001b[0m\n",
      "\u001b[34m[74]#011train-error:0.022059#011validation-error:0.076923\u001b[0m\n",
      "\u001b[34m[16:40:11] src/tree/updater_prune.cc:74: tree pruning end, 1 roots, 0 extra nodes, 0 pruned nodes, max_depth=0\u001b[0m\n",
      "\u001b[34m[75]#011train-error:0.022059#011validation-error:0.076923\u001b[0m\n",
      "\u001b[34m[16:40:11] src/tree/updater_prune.cc:74: tree pruning end, 1 roots, 0 extra nodes, 0 pruned nodes, max_depth=0\u001b[0m\n",
      "\u001b[34m[76]#011train-error:0.022059#011validation-error:0.076923\u001b[0m\n",
      "\u001b[34m[16:40:11] src/tree/updater_prune.cc:74: tree pruning end, 1 roots, 0 extra nodes, 2 pruned nodes, max_depth=0\u001b[0m\n",
      "\u001b[34m[77]#011train-error:0.022059#011validation-error:0.076923\u001b[0m\n",
      "\u001b[34m[16:40:11] src/tree/updater_prune.cc:74: tree pruning end, 1 roots, 0 extra nodes, 0 pruned nodes, max_depth=0\u001b[0m\n",
      "\u001b[34m[78]#011train-error:0.022059#011validation-error:0.076923\u001b[0m\n",
      "\u001b[34m[16:40:11] src/tree/updater_prune.cc:74: tree pruning end, 1 roots, 0 extra nodes, 0 pruned nodes, max_depth=0\u001b[0m\n",
      "\u001b[34m[79]#011train-error:0.022059#011validation-error:0.076923\u001b[0m\n",
      "\u001b[34m[16:40:11] src/tree/updater_prune.cc:74: tree pruning end, 1 roots, 0 extra nodes, 0 pruned nodes, max_depth=0\u001b[0m\n",
      "\u001b[34m[80]#011train-error:0.022059#011validation-error:0.076923\u001b[0m\n",
      "\u001b[34m[16:40:11] src/tree/updater_prune.cc:74: tree pruning end, 1 roots, 0 extra nodes, 0 pruned nodes, max_depth=0\u001b[0m\n",
      "\u001b[34m[81]#011train-error:0.022059#011validation-error:0.076923\u001b[0m\n",
      "\u001b[34m[16:40:11] src/tree/updater_prune.cc:74: tree pruning end, 1 roots, 0 extra nodes, 0 pruned nodes, max_depth=0\u001b[0m\n",
      "\u001b[34m[82]#011train-error:0.022059#011validation-error:0.076923\u001b[0m\n",
      "\u001b[34m[16:40:11] src/tree/updater_prune.cc:74: tree pruning end, 1 roots, 0 extra nodes, 0 pruned nodes, max_depth=0\u001b[0m\n",
      "\u001b[34m[83]#011train-error:0.022059#011validation-error:0.076923\u001b[0m\n",
      "\u001b[34m[16:40:11] src/tree/updater_prune.cc:74: tree pruning end, 1 roots, 0 extra nodes, 0 pruned nodes, max_depth=0\u001b[0m\n",
      "\u001b[34m[84]#011train-error:0.022059#011validation-error:0.076923\u001b[0m\n",
      "\u001b[34m[16:40:11] src/tree/updater_prune.cc:74: tree pruning end, 1 roots, 0 extra nodes, 0 pruned nodes, max_depth=0\u001b[0m\n",
      "\u001b[34m[85]#011train-error:0.022059#011validation-error:0.076923\u001b[0m\n",
      "\u001b[34m[16:40:11] src/tree/updater_prune.cc:74: tree pruning end, 1 roots, 0 extra nodes, 0 pruned nodes, max_depth=0\u001b[0m\n",
      "\u001b[34m[86]#011train-error:0.022059#011validation-error:0.076923\u001b[0m\n",
      "\u001b[34m[16:40:11] src/tree/updater_prune.cc:74: tree pruning end, 1 roots, 0 extra nodes, 0 pruned nodes, max_depth=0\u001b[0m\n",
      "\u001b[34m[87]#011train-error:0.022059#011validation-error:0.076923\u001b[0m\n",
      "\u001b[34m[16:40:11] src/tree/updater_prune.cc:74: tree pruning end, 1 roots, 0 extra nodes, 0 pruned nodes, max_depth=0\u001b[0m\n",
      "\u001b[34m[88]#011train-error:0.022059#011validation-error:0.076923\u001b[0m\n",
      "\u001b[34m[16:40:11] src/tree/updater_prune.cc:74: tree pruning end, 1 roots, 0 extra nodes, 0 pruned nodes, max_depth=0\u001b[0m\n",
      "\u001b[34m[89]#011train-error:0.022059#011validation-error:0.076923\u001b[0m\n",
      "\u001b[34m[16:40:11] src/tree/updater_prune.cc:74: tree pruning end, 1 roots, 0 extra nodes, 2 pruned nodes, max_depth=0\u001b[0m\n",
      "\u001b[34m[90]#011train-error:0.022059#011validation-error:0.076923\u001b[0m\n",
      "\u001b[34m[16:40:11] src/tree/updater_prune.cc:74: tree pruning end, 1 roots, 0 extra nodes, 0 pruned nodes, max_depth=0\u001b[0m\n",
      "\u001b[34m[91]#011train-error:0.022059#011validation-error:0.076923\u001b[0m\n",
      "\u001b[34m[16:40:11] src/tree/updater_prune.cc:74: tree pruning end, 1 roots, 0 extra nodes, 0 pruned nodes, max_depth=0\u001b[0m\n",
      "\u001b[34m[92]#011train-error:0.022059#011validation-error:0.076923\u001b[0m\n",
      "\u001b[34m[16:40:11] src/tree/updater_prune.cc:74: tree pruning end, 1 roots, 0 extra nodes, 0 pruned nodes, max_depth=0\u001b[0m\n",
      "\u001b[34m[93]#011train-error:0.022059#011validation-error:0.076923\u001b[0m\n",
      "\u001b[34m[16:40:11] src/tree/updater_prune.cc:74: tree pruning end, 1 roots, 0 extra nodes, 0 pruned nodes, max_depth=0\u001b[0m\n",
      "\u001b[34m[94]#011train-error:0.022059#011validation-error:0.076923\u001b[0m\n",
      "\u001b[34m[16:40:11] src/tree/updater_prune.cc:74: tree pruning end, 1 roots, 0 extra nodes, 0 pruned nodes, max_depth=0\u001b[0m\n",
      "\u001b[34m[95]#011train-error:0.022059#011validation-error:0.076923\u001b[0m\n",
      "\u001b[34m[16:40:11] src/tree/updater_prune.cc:74: tree pruning end, 1 roots, 0 extra nodes, 0 pruned nodes, max_depth=0\u001b[0m\n",
      "\u001b[34m[96]#011train-error:0.022059#011validation-error:0.076923\u001b[0m\n",
      "\u001b[34m[16:40:11] src/tree/updater_prune.cc:74: tree pruning end, 1 roots, 0 extra nodes, 0 pruned nodes, max_depth=0\u001b[0m\n",
      "\u001b[34m[97]#011train-error:0.022059#011validation-error:0.076923\u001b[0m\n",
      "\u001b[34m[16:40:11] src/tree/updater_prune.cc:74: tree pruning end, 1 roots, 0 extra nodes, 0 pruned nodes, max_depth=0\u001b[0m\n",
      "\u001b[34m[98]#011train-error:0.022059#011validation-error:0.076923\u001b[0m\n",
      "\u001b[34m[16:40:11] src/tree/updater_prune.cc:74: tree pruning end, 1 roots, 0 extra nodes, 0 pruned nodes, max_depth=0\u001b[0m\n",
      "\u001b[34m[99]#011train-error:0.044118#011validation-error:0.076923\u001b[0m\n",
      "\n",
      "2023-06-17 16:40:28 Uploading - Uploading generated training model\n",
      "2023-06-17 16:40:28 Completed - Training job completed\n",
      "Training seconds: 92\n",
      "Billable seconds: 92\n"
     ]
    }
   ],
   "source": [
    "sess = sagemaker.Session()\n",
    "\n",
    "xgb = sagemaker.estimator.Estimator(\n",
    "    container,\n",
    "    role,\n",
    "    instance_count=1,\n",
    "    instance_type=\"ml.m4.xlarge\",\n",
    "    output_path=\"s3://{}/{}/output\".format(bucket, prefix),\n",
    "    sagemaker_session=sess,\n",
    ")\n",
    "xgb.set_hyperparameters(\n",
    "    max_depth=5,\n",
    "    eta=0.2,\n",
    "    gamma=4,\n",
    "    min_child_weight=6,\n",
    "    subsample=0.8,\n",
    "    silent=0,\n",
    "    objective=\"binary:logistic\",\n",
    "    num_round=100,\n",
    ")\n",
    "\n",
    "xgb.fit({\"train\": s3_input_train, \"validation\": s3_input_validation})"
   ]
  },
  {
   "cell_type": "markdown",
   "id": "69171ef8",
   "metadata": {
    "papermill": {
     "duration": null,
     "end_time": null,
     "exception": null,
     "start_time": null,
     "status": "pending"
    },
    "tags": []
   },
   "source": [
    "---\n",
    "## Host\n",
    "\n",
    "Now that we've trained the algorithm, let's create a model and deploy it to a hosted endpoint."
   ]
  },
  {
   "cell_type": "markdown",
   "id": "a3802203",
   "metadata": {},
   "source": [
    "#### Code Cell 19 ####"
   ]
  },
  {
   "cell_type": "code",
   "execution_count": 23,
   "id": "995a08c8",
   "metadata": {
    "papermill": {
     "duration": null,
     "end_time": null,
     "exception": null,
     "start_time": null,
     "status": "pending"
    },
    "tags": []
   },
   "outputs": [
    {
     "name": "stderr",
     "output_type": "stream",
     "text": [
      "INFO:sagemaker:Creating model with name: xgboost-2023-06-17-16-40-54-619\n",
      "INFO:sagemaker:Creating endpoint-config with name xgboost-2023-06-17-16-40-54-619\n",
      "INFO:sagemaker:Creating endpoint with name xgboost-2023-06-17-16-40-54-619\n"
     ]
    },
    {
     "name": "stdout",
     "output_type": "stream",
     "text": [
      "-----!"
     ]
    }
   ],
   "source": [
    "xgb_predictor = xgb.deploy(\n",
    "    initial_instance_count=1, instance_type=\"ml.m4.xlarge\", serializer=CSVSerializer()\n",
    ")"
   ]
  },
  {
   "cell_type": "markdown",
   "id": "a3a0c767",
   "metadata": {
    "papermill": {
     "duration": null,
     "end_time": null,
     "exception": null,
     "start_time": null,
     "status": "pending"
    },
    "tags": []
   },
   "source": [
    "### Evaluate\n",
    "\n",
    "Now that we have a hosted endpoint running, we can make real-time predictions from our model very easily, simply by making a `http` POST request.  But first, we'll need to set up serializers and deserializers for passing our `test_data` NumPy arrays to the model behind the endpoint."
   ]
  },
  {
   "cell_type": "markdown",
   "id": "ce72109b",
   "metadata": {
    "papermill": {
     "duration": null,
     "end_time": null,
     "exception": null,
     "start_time": null,
     "status": "pending"
    },
    "tags": []
   },
   "source": [
    "Now, we'll use a simple function to:\n",
    "1. Loop over our test dataset\n",
    "1. Split it into mini-batches of rows \n",
    "1. Convert those mini-batchs to CSV string payloads\n",
    "1. Retrieve mini-batch predictions by invoking the XGBoost endpoint\n",
    "1. Collect predictions and convert from the CSV output our model provides into a NumPy array"
   ]
  },
  {
   "cell_type": "markdown",
   "id": "5024a40a",
   "metadata": {},
   "source": [
    "#### Code Cell 20 ####"
   ]
  },
  {
   "cell_type": "code",
   "execution_count": 25,
   "id": "95edb128",
   "metadata": {
    "papermill": {
     "duration": null,
     "end_time": null,
     "exception": null,
     "start_time": null,
     "status": "pending"
    },
    "tags": []
   },
   "outputs": [],
   "source": [
    "def predict(data, rows=50):\n",
    "    split_array = np.array_split(data, int(data.shape[0] / float(rows) + 1))\n",
    "    predictions = \"\"\n",
    "    for array in split_array:\n",
    "        predictions = \",\".join([predictions, xgb_predictor.predict(array).decode(\"utf-8\")])\n",
    "\n",
    "    return np.fromstring(predictions[1:], sep=\",\")\n",
    "\n",
    "\n",
    "predictions = predict(test_data.to_numpy()[:, 1:])"
   ]
  },
  {
   "cell_type": "markdown",
   "id": "fa51e1d7",
   "metadata": {},
   "source": [
    "#### Code Cell 21 ####"
   ]
  },
  {
   "cell_type": "code",
   "execution_count": 26,
   "id": "8ac1006f",
   "metadata": {},
   "outputs": [
    {
     "name": "stdout",
     "output_type": "stream",
     "text": [
      "     spy?  flight-duration  transponder  max-altitude  max-speed\n",
      "112     1               36          1.0            22         14\n",
      "51      0               15          1.0             8          7\n",
      "147     1               25          0.0            21         21\n",
      "44      0               15          1.0             4         21\n",
      "171     1               31          1.0            25         11\n",
      "83      1               40          0.0            26         21\n",
      "93      0               18          1.0             9          6\n",
      "111     1               28          1.0            17         17\n",
      "164     1               23          0.0            26          8\n",
      "91      1               35          1.0            21         21\n",
      "35      0               13          1.0             2         11\n",
      "59      0               15          0.0             6          9\n",
      "89      1               39          0.0            15         23\n",
      "194     1               34          1.0            20          3\n",
      "67      1               37          0.0            12          6\n",
      "126     1               35          0.0            23         20\n",
      "21      0                6          1.0             5          3\n",
      "37      0               16          1.0             2         11\n",
      "102     1               29          0.0            14         21\n",
      "141     1               40          0.0            26          6\n",
      "[0.91419119 0.06875039 0.95399266 0.06875039 0.91419119 0.95399266\n",
      " 0.06875039 0.91419119 0.66130888 0.91419119 0.06875039 0.1256358\n",
      " 0.92955828 0.91419119 0.9100914  0.95399266 0.06875039 0.06875039\n",
      " 0.92955828 0.95399266]\n"
     ]
    }
   ],
   "source": [
    "print(test_data)\n",
    "print(predictions)"
   ]
  },
  {
   "cell_type": "markdown",
   "id": "31fab05a",
   "metadata": {
    "papermill": {
     "duration": null,
     "end_time": null,
     "exception": null,
     "start_time": null,
     "status": "pending"
    },
    "tags": []
   },
   "source": [
    "There are many ways to compare the performance of a machine learning model, but let's start by simply by comparing actual to predicted values.  In this case, we're simply predicting whether the vehicle is island friendly (`1`) or not (`0`), which produces a simple confusion matrix."
   ]
  },
  {
   "cell_type": "markdown",
   "id": "e2c798a8",
   "metadata": {},
   "source": [
    "#### Code Cell 22 ####"
   ]
  },
  {
   "cell_type": "code",
   "execution_count": 27,
   "id": "da21980f",
   "metadata": {
    "papermill": {
     "duration": null,
     "end_time": null,
     "exception": null,
     "start_time": null,
     "status": "pending"
    },
    "tags": []
   },
   "outputs": [
    {
     "data": {
      "text/html": [
       "<div>\n",
       "<style scoped>\n",
       "    .dataframe tbody tr th:only-of-type {\n",
       "        vertical-align: middle;\n",
       "    }\n",
       "\n",
       "    .dataframe tbody tr th {\n",
       "        vertical-align: top;\n",
       "    }\n",
       "\n",
       "    .dataframe thead th {\n",
       "        text-align: right;\n",
       "    }\n",
       "</style>\n",
       "<table border=\"1\" class=\"dataframe\">\n",
       "  <thead>\n",
       "    <tr style=\"text-align: right;\">\n",
       "      <th>predictions</th>\n",
       "      <th>0.0</th>\n",
       "      <th>1.0</th>\n",
       "    </tr>\n",
       "    <tr>\n",
       "      <th>actual</th>\n",
       "      <th></th>\n",
       "      <th></th>\n",
       "    </tr>\n",
       "  </thead>\n",
       "  <tbody>\n",
       "    <tr>\n",
       "      <th>0</th>\n",
       "      <td>7</td>\n",
       "      <td>0</td>\n",
       "    </tr>\n",
       "    <tr>\n",
       "      <th>1</th>\n",
       "      <td>0</td>\n",
       "      <td>13</td>\n",
       "    </tr>\n",
       "  </tbody>\n",
       "</table>\n",
       "</div>"
      ],
      "text/plain": [
       "predictions  0.0  1.0\n",
       "actual               \n",
       "0              7    0\n",
       "1              0   13"
      ]
     },
     "execution_count": 27,
     "metadata": {},
     "output_type": "execute_result"
    }
   ],
   "source": [
    "pd.crosstab(\n",
    "    index=test_data.iloc[:, 0],\n",
    "    columns=np.round(predictions),\n",
    "    rownames=[\"actual\"],\n",
    "    colnames=[\"predictions\"],\n",
    ")"
   ]
  },
  {
   "cell_type": "markdown",
   "id": "d94acf12",
   "metadata": {
    "papermill": {
     "duration": null,
     "end_time": null,
     "exception": null,
     "start_time": null,
     "status": "pending"
    },
    "tags": []
   },
   "source": [
    "_Note, due to randomized elements of the algorithm, your results may differ slightly._\n",
    "\n",
    "Of the 20 vehicles, we've correctly predicted 19 of them (true positives). And, we incorrectly predicted 1 vehicle to be island-friendly but ended up not being so which is known as a false positive.  There are no false negatives in our testing.  \n",
    "\n",
    "An important point here is that because of the `np.round()` function above we are using a simple threshold (or cutoff) of 0.5.  Our predictions from `xgboost` come out as continuous values between 0 and 1, and we force them into the binary classes that we began with.  \n",
    "To get a rough intuition here, let's look at the continuous values of our predictions."
   ]
  },
  {
   "cell_type": "markdown",
   "id": "1568b133",
   "metadata": {},
   "source": [
    "#### Code Cell 23 ####"
   ]
  },
  {
   "cell_type": "code",
   "execution_count": 28,
   "id": "2303a733",
   "metadata": {
    "papermill": {
     "duration": null,
     "end_time": null,
     "exception": null,
     "start_time": null,
     "status": "pending"
    },
    "tags": []
   },
   "outputs": [
    {
     "data": {
      "image/png": "[encoded data removed]",
      "text/plain": [
       "<Figure size 640x480 with 1 Axes>"
      ]
     },
     "metadata": {},
     "output_type": "display_data"
    }
   ],
   "source": [
    "plt.hist(predictions)\n",
    "plt.show()"
   ]
  },
  {
   "cell_type": "markdown",
   "id": "666f20ec",
   "metadata": {
    "papermill": {
     "duration": null,
     "end_time": null,
     "exception": null,
     "start_time": null,
     "status": "pending"
    },
    "tags": []
   },
   "source": [
    "### (Optional) Clean-up\n",
    "\n",
    "If you're ready to be done with this notebook, please run the cell below.  This will remove the hosted endpoint you created and avoid any charges from a stray instance being left on.\n",
    "\n",
    "Remove the comment (#) before running the code."
   ]
  },
  {
   "cell_type": "code",
   "execution_count": null,
   "id": "bb4b2d63",
   "metadata": {
    "papermill": {
     "duration": null,
     "end_time": null,
     "exception": null,
     "start_time": null,
     "status": "pending"
    },
    "tags": []
   },
   "outputs": [],
   "source": [
    "#xgb_predictor.delete_endpoint()"
   ]
  }
 ],
 "metadata": {
  "availableInstances": [
   {
    "_defaultOrder": 0,
    "_isFastLaunch": true,
    "category": "General purpose",
    "gpuNum": 0,
    "hideHardwareSpecs": false,
    "memoryGiB": 4,
    "name": "ml.t3.medium",
    "vcpuNum": 2
   },
   {
    "_defaultOrder": 1,
    "_isFastLaunch": false,
    "category": "General purpose",
    "gpuNum": 0,
    "hideHardwareSpecs": false,
    "memoryGiB": 8,
    "name": "ml.t3.large",
    "vcpuNum": 2
   },
   {
    "_defaultOrder": 2,
    "_isFastLaunch": false,
    "category": "General purpose",
    "gpuNum": 0,
    "hideHardwareSpecs": false,
    "memoryGiB": 16,
    "name": "ml.t3.xlarge",
    "vcpuNum": 4
   },
   {
    "_defaultOrder": 3,
    "_isFastLaunch": false,
    "category": "General purpose",
    "gpuNum": 0,
    "hideHardwareSpecs": false,
    "memoryGiB": 32,
    "name": "ml.t3.2xlarge",
    "vcpuNum": 8
   },
   {
    "_defaultOrder": 4,
    "_isFastLaunch": true,
    "category": "General purpose",
    "gpuNum": 0,
    "hideHardwareSpecs": false,
    "memoryGiB": 8,
    "name": "ml.m5.large",
    "vcpuNum": 2
   },
   {
    "_defaultOrder": 5,
    "_isFastLaunch": false,
    "category": "General purpose",
    "gpuNum": 0,
    "hideHardwareSpecs": false,
    "memoryGiB": 16,
    "name": "ml.m5.xlarge",
    "vcpuNum": 4
   },
   {
    "_defaultOrder": 6,
    "_isFastLaunch": false,
    "category": "General purpose",
    "gpuNum": 0,
    "hideHardwareSpecs": false,
    "memoryGiB": 32,
    "name": "ml.m5.2xlarge",
    "vcpuNum": 8
   },
   {
    "_defaultOrder": 7,
    "_isFastLaunch": false,
    "category": "General purpose",
    "gpuNum": 0,
    "hideHardwareSpecs": false,
    "memoryGiB": 64,
    "name": "ml.m5.4xlarge",
    "vcpuNum": 16
   },
   {
    "_defaultOrder": 8,
    "_isFastLaunch": false,
    "category": "General purpose",
    "gpuNum": 0,
    "hideHardwareSpecs": false,
    "memoryGiB": 128,
    "name": "ml.m5.8xlarge",
    "vcpuNum": 32
   },
   {
    "_defaultOrder": 9,
    "_isFastLaunch": false,
    "category": "General purpose",
    "gpuNum": 0,
    "hideHardwareSpecs": false,
    "memoryGiB": 192,
    "name": "ml.m5.12xlarge",
    "vcpuNum": 48
   },
   {
    "_defaultOrder": 10,
    "_isFastLaunch": false,
    "category": "General purpose",
    "gpuNum": 0,
    "hideHardwareSpecs": false,
    "memoryGiB": 256,
    "name": "ml.m5.16xlarge",
    "vcpuNum": 64
   },
   {
    "_defaultOrder": 11,
    "_isFastLaunch": false,
    "category": "General purpose",
    "gpuNum": 0,
    "hideHardwareSpecs": false,
    "memoryGiB": 384,
    "name": "ml.m5.24xlarge",
    "vcpuNum": 96
   },
   {
    "_defaultOrder": 12,
    "_isFastLaunch": false,
    "category": "General purpose",
    "gpuNum": 0,
    "hideHardwareSpecs": false,
    "memoryGiB": 8,
    "name": "ml.m5d.large",
    "vcpuNum": 2
   },
   {
    "_defaultOrder": 13,
    "_isFastLaunch": false,
    "category": "General purpose",
    "gpuNum": 0,
    "hideHardwareSpecs": false,
    "memoryGiB": 16,
    "name": "ml.m5d.xlarge",
    "vcpuNum": 4
   },
   {
    "_defaultOrder": 14,
    "_isFastLaunch": false,
    "category": "General purpose",
    "gpuNum": 0,
    "hideHardwareSpecs": false,
    "memoryGiB": 32,
    "name": "ml.m5d.2xlarge",
    "vcpuNum": 8
   },
   {
    "_defaultOrder": 15,
    "_isFastLaunch": false,
    "category": "General purpose",
    "gpuNum": 0,
    "hideHardwareSpecs": false,
    "memoryGiB": 64,
    "name": "ml.m5d.4xlarge",
    "vcpuNum": 16
   },
   {
    "_defaultOrder": 16,
    "_isFastLaunch": false,
    "category": "General purpose",
    "gpuNum": 0,
    "hideHardwareSpecs": false,
    "memoryGiB": 128,
    "name": "ml.m5d.8xlarge",
    "vcpuNum": 32
   },
   {
    "_defaultOrder": 17,
    "_isFastLaunch": false,
    "category": "General purpose",
    "gpuNum": 0,
    "hideHardwareSpecs": false,
    "memoryGiB": 192,
    "name": "ml.m5d.12xlarge",
    "vcpuNum": 48
   },
   {
    "_defaultOrder": 18,
    "_isFastLaunch": false,
    "category": "General purpose",
    "gpuNum": 0,
    "hideHardwareSpecs": false,
    "memoryGiB": 256,
    "name": "ml.m5d.16xlarge",
    "vcpuNum": 64
   },
   {
    "_defaultOrder": 19,
    "_isFastLaunch": false,
    "category": "General purpose",
    "gpuNum": 0,
    "hideHardwareSpecs": false,
    "memoryGiB": 384,
    "name": "ml.m5d.24xlarge",
    "vcpuNum": 96
   },
   {
    "_defaultOrder": 20,
    "_isFastLaunch": false,
    "category": "General purpose",
    "gpuNum": 0,
    "hideHardwareSpecs": true,
    "memoryGiB": 0,
    "name": "ml.geospatial.interactive",
    "supportedImageNames": [
     "sagemaker-geospatial-v1-0"
    ],
    "vcpuNum": 0
   },
   {
    "_defaultOrder": 21,
    "_isFastLaunch": true,
    "category": "Compute optimized",
    "gpuNum": 0,
    "hideHardwareSpecs": false,
    "memoryGiB": 4,
    "name": "ml.c5.large",
    "vcpuNum": 2
   },
   {
    "_defaultOrder": 22,
    "_isFastLaunch": false,
    "category": "Compute optimized",
    "gpuNum": 0,
    "hideHardwareSpecs": false,
    "memoryGiB": 8,
    "name": "ml.c5.xlarge",
    "vcpuNum": 4
   },
   {
    "_defaultOrder": 23,
    "_isFastLaunch": false,
    "category": "Compute optimized",
    "gpuNum": 0,
    "hideHardwareSpecs": false,
    "memoryGiB": 16,
    "name": "ml.c5.2xlarge",
    "vcpuNum": 8
   },
   {
    "_defaultOrder": 24,
    "_isFastLaunch": false,
    "category": "Compute optimized",
    "gpuNum": 0,
    "hideHardwareSpecs": false,
    "memoryGiB": 32,
    "name": "ml.c5.4xlarge",
    "vcpuNum": 16
   },
   {
    "_defaultOrder": 25,
    "_isFastLaunch": false,
    "category": "Compute optimized",
    "gpuNum": 0,
    "hideHardwareSpecs": false,
    "memoryGiB": 72,
    "name": "ml.c5.9xlarge",
    "vcpuNum": 36
   },
   {
    "_defaultOrder": 26,
    "_isFastLaunch": false,
    "category": "Compute optimized",
    "gpuNum": 0,
    "hideHardwareSpecs": false,
    "memoryGiB": 96,
    "name": "ml.c5.12xlarge",
    "vcpuNum": 48
   },
   {
    "_defaultOrder": 27,
    "_isFastLaunch": false,
    "category": "Compute optimized",
    "gpuNum": 0,
    "hideHardwareSpecs": false,
    "memoryGiB": 144,
    "name": "ml.c5.18xlarge",
    "vcpuNum": 72
   },
   {
    "_defaultOrder": 28,
    "_isFastLaunch": false,
    "category": "Compute optimized",
    "gpuNum": 0,
    "hideHardwareSpecs": false,
    "memoryGiB": 192,
    "name": "ml.c5.24xlarge",
    "vcpuNum": 96
   },
   {
    "_defaultOrder": 29,
    "_isFastLaunch": true,
    "category": "Accelerated computing",
    "gpuNum": 1,
    "hideHardwareSpecs": false,
    "memoryGiB": 16,
    "name": "ml.g4dn.xlarge",
    "vcpuNum": 4
   },
   {
    "_defaultOrder": 30,
    "_isFastLaunch": false,
    "category": "Accelerated computing",
    "gpuNum": 1,
    "hideHardwareSpecs": false,
    "memoryGiB": 32,
    "name": "ml.g4dn.2xlarge",
    "vcpuNum": 8
   },
   {
    "_defaultOrder": 31,
    "_isFastLaunch": false,
    "category": "Accelerated computing",
    "gpuNum": 1,
    "hideHardwareSpecs": false,
    "memoryGiB": 64,
    "name": "ml.g4dn.4xlarge",
    "vcpuNum": 16
   },
   {
    "_defaultOrder": 32,
    "_isFastLaunch": false,
    "category": "Accelerated computing",
    "gpuNum": 1,
    "hideHardwareSpecs": false,
    "memoryGiB": 128,
    "name": "ml.g4dn.8xlarge",
    "vcpuNum": 32
   },
   {
    "_defaultOrder": 33,
    "_isFastLaunch": false,
    "category": "Accelerated computing",
    "gpuNum": 4,
    "hideHardwareSpecs": false,
    "memoryGiB": 192,
    "name": "ml.g4dn.12xlarge",
    "vcpuNum": 48
   },
   {
    "_defaultOrder": 34,
    "_isFastLaunch": false,
    "category": "Accelerated computing",
    "gpuNum": 1,
    "hideHardwareSpecs": false,
    "memoryGiB": 256,
    "name": "ml.g4dn.16xlarge",
    "vcpuNum": 64
   },
   {
    "_defaultOrder": 35,
    "_isFastLaunch": false,
    "category": "Accelerated computing",
    "gpuNum": 1,
    "hideHardwareSpecs": false,
    "memoryGiB": 61,
    "name": "ml.p3.2xlarge",
    "vcpuNum": 8
   },
   {
    "_defaultOrder": 36,
    "_isFastLaunch": false,
    "category": "Accelerated computing",
    "gpuNum": 4,
    "hideHardwareSpecs": false,
    "memoryGiB": 244,
    "name": "ml.p3.8xlarge",
    "vcpuNum": 32
   },
   {
    "_defaultOrder": 37,
    "_isFastLaunch": false,
    "category": "Accelerated computing",
    "gpuNum": 8,
    "hideHardwareSpecs": false,
    "memoryGiB": 488,
    "name": "ml.p3.16xlarge",
    "vcpuNum": 64
   },
   {
    "_defaultOrder": 38,
    "_isFastLaunch": false,
    "category": "Accelerated computing",
    "gpuNum": 8,
    "hideHardwareSpecs": false,
    "memoryGiB": 768,
    "name": "ml.p3dn.24xlarge",
    "vcpuNum": 96
   },
   {
    "_defaultOrder": 39,
    "_isFastLaunch": false,
    "category": "Memory Optimized",
    "gpuNum": 0,
    "hideHardwareSpecs": false,
    "memoryGiB": 16,
    "name": "ml.r5.large",
    "vcpuNum": 2
   },
   {
    "_defaultOrder": 40,
    "_isFastLaunch": false,
    "category": "Memory Optimized",
    "gpuNum": 0,
    "hideHardwareSpecs": false,
    "memoryGiB": 32,
    "name": "ml.r5.xlarge",
    "vcpuNum": 4
   },
   {
    "_defaultOrder": 41,
    "_isFastLaunch": false,
    "category": "Memory Optimized",
    "gpuNum": 0,
    "hideHardwareSpecs": false,
    "memoryGiB": 64,
    "name": "ml.r5.2xlarge",
    "vcpuNum": 8
   },
   {
    "_defaultOrder": 42,
    "_isFastLaunch": false,
    "category": "Memory Optimized",
    "gpuNum": 0,
    "hideHardwareSpecs": false,
    "memoryGiB": 128,
    "name": "ml.r5.4xlarge",
    "vcpuNum": 16
   },
   {
    "_defaultOrder": 43,
    "_isFastLaunch": false,
    "category": "Memory Optimized",
    "gpuNum": 0,
    "hideHardwareSpecs": false,
    "memoryGiB": 256,
    "name": "ml.r5.8xlarge",
    "vcpuNum": 32
   },
   {
    "_defaultOrder": 44,
    "_isFastLaunch": false,
    "category": "Memory Optimized",
    "gpuNum": 0,
    "hideHardwareSpecs": false,
    "memoryGiB": 384,
    "name": "ml.r5.12xlarge",
    "vcpuNum": 48
   },
   {
    "_defaultOrder": 45,
    "_isFastLaunch": false,
    "category": "Memory Optimized",
    "gpuNum": 0,
    "hideHardwareSpecs": false,
    "memoryGiB": 512,
    "name": "ml.r5.16xlarge",
    "vcpuNum": 64
   },
   {
    "_defaultOrder": 46,
    "_isFastLaunch": false,
    "category": "Memory Optimized",
    "gpuNum": 0,
    "hideHardwareSpecs": false,
    "memoryGiB": 768,
    "name": "ml.r5.24xlarge",
    "vcpuNum": 96
   },
   {
    "_defaultOrder": 47,
    "_isFastLaunch": false,
    "category": "Accelerated computing",
    "gpuNum": 1,
    "hideHardwareSpecs": false,
    "memoryGiB": 16,
    "name": "ml.g5.xlarge",
    "vcpuNum": 4
   },
   {
    "_defaultOrder": 48,
    "_isFastLaunch": false,
    "category": "Accelerated computing",
    "gpuNum": 1,
    "hideHardwareSpecs": false,
    "memoryGiB": 32,
    "name": "ml.g5.2xlarge",
    "vcpuNum": 8
   },
   {
    "_defaultOrder": 49,
    "_isFastLaunch": false,
    "category": "Accelerated computing",
    "gpuNum": 1,
    "hideHardwareSpecs": false,
    "memoryGiB": 64,
    "name": "ml.g5.4xlarge",
    "vcpuNum": 16
   },
   {
    "_defaultOrder": 50,
    "_isFastLaunch": false,
    "category": "Accelerated computing",
    "gpuNum": 1,
    "hideHardwareSpecs": false,
    "memoryGiB": 128,
    "name": "ml.g5.8xlarge",
    "vcpuNum": 32
   },
   {
    "_defaultOrder": 51,
    "_isFastLaunch": false,
    "category": "Accelerated computing",
    "gpuNum": 1,
    "hideHardwareSpecs": false,
    "memoryGiB": 256,
    "name": "ml.g5.16xlarge",
    "vcpuNum": 64
   },
   {
    "_defaultOrder": 52,
    "_isFastLaunch": false,
    "category": "Accelerated computing",
    "gpuNum": 4,
    "hideHardwareSpecs": false,
    "memoryGiB": 192,
    "name": "ml.g5.12xlarge",
    "vcpuNum": 48
   },
   {
    "_defaultOrder": 53,
    "_isFastLaunch": false,
    "category": "Accelerated computing",
    "gpuNum": 4,
    "hideHardwareSpecs": false,
    "memoryGiB": 384,
    "name": "ml.g5.24xlarge",
    "vcpuNum": 96
   },
   {
    "_defaultOrder": 54,
    "_isFastLaunch": false,
    "category": "Accelerated computing",
    "gpuNum": 8,
    "hideHardwareSpecs": false,
    "memoryGiB": 768,
    "name": "ml.g5.48xlarge",
    "vcpuNum": 192
   },
   {
    "_defaultOrder": 55,
    "_isFastLaunch": false,
    "category": "Accelerated computing",
    "gpuNum": 8,
    "hideHardwareSpecs": false,
    "memoryGiB": 1152,
    "name": "ml.p4d.24xlarge",
    "vcpuNum": 96
   },
   {
    "_defaultOrder": 56,
    "_isFastLaunch": false,
    "category": "Accelerated computing",
    "gpuNum": 8,
    "hideHardwareSpecs": false,
    "memoryGiB": 1152,
    "name": "ml.p4de.24xlarge",
    "vcpuNum": 96
   }
  ],
  "celltoolbar": "Tags",
  "instance_type": "ml.t3.medium",
  "kernelspec": {
   "display_name": "Python 3 (Data Science)",
   "language": "python",
   "name": "python3__SAGEMAKER_INTERNAL__arn:aws:sagemaker:us-east-1:081325390199:image/datascience-1.0"
  },
  "language_info": {
   "codemirror_mode": {
    "name": "ipython",
    "version": 3
   },
   "file_extension": ".py",
   "mimetype": "text/x-python",
   "name": "python",
   "nbconvert_exporter": "python",
   "pygments_lexer": "ipython3",
   "version": "3.7.10"
  },
  "notice": "Copyright 2017 Amazon.com, Inc. or its affiliates. All Rights Reserved.  Licensed under the Apache License, Version 2.0 (the \"License\"). You may not use this file except in compliance with the License. A copy of the License is located at http://aws.amazon.com/apache2.0/ or in the \"license\" file accompanying this file. This file is distributed on an \"AS IS\" BASIS, WITHOUT WARRANTIES OR CONDITIONS OF ANY KIND, either express or implied. See the License for the specific language governing permissions and limitations under the License.",
  "papermill": {
   "default_parameters": {},
   "duration": 311.728138,
   "end_time": "2021-06-07T00:14:55.273560",
   "environment_variables": {},
   "exception": true,
   "input_path": "xgboost_customer_churn.ipynb",
   "output_path": "/opt/ml/processing/output/xgboost_customer_churn-2021-06-07-00-06-03.ipynb",
   "parameters": {
    "kms_key": "arn:aws:kms:us-west-2:521695447989:key/6e9984db-50cf-4c7e-926c-877ec47a8b25"
   },
   "start_time": "2021-06-07T00:09:43.545422",
   "version": "2.3.3"
  }
 },
 "nbformat": 4,
 "nbformat_minor": 5
}
